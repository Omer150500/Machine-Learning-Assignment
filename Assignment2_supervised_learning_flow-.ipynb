{
 "cells": [
  {
   "cell_type": "markdown",
   "id": "ec202ada",
   "metadata": {},
   "source": [
    "# Assignment2 - Supervised Learning flow"
   ]
  },
  {
   "cell_type": "markdown",
   "id": "b06a2810",
   "metadata": {},
   "source": [
    "# Part 1(a) Student details:\n",
    "* Please write the First-Name, First letter of Last-Name and last 4 digits of the i.d. for each student. "
   ]
  },
  {
   "cell_type": "code",
   "execution_count": null,
   "id": "ca16486b",
   "metadata": {},
   "outputs": [],
   "source": [
    "# מטלה 2 - למידה מונחית - Flow\n",
    "# Dataset: Titanic"
   ]
  },
  {
   "cell_type": "code",
   "execution_count": null,
   "id": "f008015e",
   "metadata": {},
   "outputs": [],
   "source": [
    "# Student: Yossi Yadgar\n",
    "# ID: 207687898"
   ]
  },
  {
   "cell_type": "code",
   "execution_count": null,
   "id": "92ab9cfa",
   "metadata": {},
   "outputs": [],
   "source": [
    "# Student: Omer Turgeman\n",
    "# ID: 322604851"
   ]
  },
  {
   "cell_type": "code",
   "execution_count": null,
   "id": "e0ec6745",
   "metadata": {},
   "outputs": [],
   "source": [
    "# בעיה זו עוסקת בסיווג - האם נוסע שרד את אסון הטיטאניק או לא \n",
    "# מטרתנו להשתמש במאפייני הנושאים בכדי לחזות אם שרד"
   ]
  },
  {
   "cell_type": "markdown",
   "id": "abb64166-b32e-4b86-a7ee-84106c8b3a92",
   "metadata": {},
   "source": [
    "## Part 1(b) - Chat-GPT/other AI-agent/other assistance used:\n",
    "* If you changed the prompt until you got a satisfying answer, please add all versions\n",
    "* don't delete \"pre\" tags, so new-line is supported\n",
    "* double click the following markdown cell to change\n",
    "* press shift+enter to view\n",
    "* Add information:"
   ]
  },
  {
   "cell_type": "code",
   "execution_count": 33,
   "id": "0f9c0eee",
   "metadata": {},
   "outputs": [],
   "source": [
    "#AI agent name:ChatGPT\n",
    "#Goal:קבלה של כל המחלקות שנצטרך להשתמש בהן בעבודה\n",
    "#Propmpt1: יש לנו עבודה שבה נצטרך לבצע תהליך מלא של למידת מכונה על דאטהסט קיים, האם תוכל לתת לי את כל המחלקות שנצטרך במהלך העבודה\n",
    "    "
   ]
  },
  {
   "cell_type": "markdown",
   "id": "0e4fbaab-e5a5-40ed-be0f-9a2cb7931a4b",
   "metadata": {},
   "source": [
    "## Part 1(c) - Learning Problem and dataset explaination.\n",
    "* Please explain in one paragraph\n",
    "* don't delete \"pre\" tags, so new-line is supported\n",
    "* double click the following markdown cell to change\n",
    "* press shift+enter to view\n",
    "* Add explaining text:AI agent name:ChatGPT\n",
    "Goal:קבלה של כל המחלקות שנצטרך להשתמש בהן בעבודה\n",
    "Propmpt1: יש לנו עבודה שבה נצטרך לבצע תהליך מלא של למידת מכונה על דאטהסט קיים, האם תוכל לתת לי את כל המחלקות שנצטרך במהלך העבודה\n",
    "    "
   ]
  },
  {
   "cell_type": "markdown",
   "id": "dd8565df-2778-4b89-83bd-6b227063789f",
   "metadata": {},
   "source": [
    "#### Add information in this Markdown cell (double click to change, shift-enter to view)\n",
    "<pre>\n",
    "\n",
    "\n",
    "בפרויקט זה נעשה שימוש בדאטהסט המבוסס על נתוני הנוסעים בטיטאניק (טיטאניק), שנועד לנתח ולחזות אילו נוסעים שרדו את האסון. הדאטהסט מכיל נתונים נומריים בלבד, עם שדות שונים המתארים מאפיינים אישיים של כל נוסע\n",
    "\n",
    "המטרה היא לבנות מודל סיווג שיחזה האם נוסע שרד את האסון (1) או לא (0) – על בסיס המאפיינים\n",
    "\n",
    "במהלך העבודה השתמשנו בטכניקות שונות של פיצ'ר אנג'ינירינג, ניתוח נתונים וחיפוש פרמטרים כדי לשפר את ביצועי המודל. הדגש היה על שימוש במדדים כמו דיוק ו-אף 1 כדי להעריך את ביצועי המודלים, ולבחור את המודל המתאים ביותר לסיווג הנוסעים.\n",
    "\n",
    "\n",
    "\n",
    "\n",
    "    \n",
    "</pre>"
   ]
  },
  {
   "cell_type": "markdown",
   "id": "df67c2ee-87c8-499c-a04f-1853c332f51d",
   "metadata": {},
   "source": [
    "## Part 2 - Initial Preparations \n",
    "You could add as many code cells as needed"
   ]
  },
  {
   "cell_type": "code",
   "execution_count": 34,
   "id": "b29b3454-b568-4614-8017-f15b3c59fc55",
   "metadata": {},
   "outputs": [],
   "source": [
    "# כלים כלליים\n",
    "import pandas as pd\n",
    "import numpy as np\n",
    "\n",
    "# הדמיה\n",
    "import matplotlib.pyplot as plt\n",
    "import seaborn as sns\n",
    "import plotly.express as px\n",
    "import plotly.io as pio\n",
    "\n",
    "# עיבוד נתונים ו-Feature Engineering\n",
    "from sklearn.preprocessing import OneHotEncoder, StandardScaler\n",
    "from sklearn.compose import ColumnTransformer\n",
    "from sklearn.pipeline import Pipeline\n",
    "from sklearn.feature_selection import VarianceThreshold, SelectKBest, f_classif\n",
    "\n",
    "# חלוקת נתונים ודירוג מודלים\n",
    "from sklearn.model_selection import train_test_split, GridSearchCV, cross_val_score, cross_validate\n",
    "\n",
    "# אלגוריתמים של סיווג\n",
    "from sklearn.linear_model import LogisticRegression\n",
    "from sklearn.ensemble import RandomForestClassifier\n",
    "from sklearn.tree import DecisionTreeClassifier\n",
    "from sklearn.svm import SVC\n",
    "from sklearn.naive_bayes import GaussianNB\n",
    "from sklearn.neighbors import KNeighborsClassifier\n",
    "\n",
    "# מדדי ביצועים\n",
    "from sklearn.metrics import (\n",
    "    classification_report,\n",
    "    confusion_matrix,\n",
    "    f1_score,\n",
    "    accuracy_score,\n",
    "    precision_score,\n",
    "    recall_score,\n",
    "    make_scorer\n",
    ")\n"
   ]
  },
  {
   "cell_type": "code",
   "execution_count": 2,
   "id": "4b47fe56-d611-4b28-be92-673db4d56400",
   "metadata": {},
   "outputs": [
    {
     "data": {
      "text/html": [
       "<div>\n",
       "<style scoped>\n",
       "    .dataframe tbody tr th:only-of-type {\n",
       "        vertical-align: middle;\n",
       "    }\n",
       "\n",
       "    .dataframe tbody tr th {\n",
       "        vertical-align: top;\n",
       "    }\n",
       "\n",
       "    .dataframe thead th {\n",
       "        text-align: right;\n",
       "    }\n",
       "</style>\n",
       "<table border=\"1\" class=\"dataframe\">\n",
       "  <thead>\n",
       "    <tr style=\"text-align: right;\">\n",
       "      <th></th>\n",
       "      <th>Pclass</th>\n",
       "      <th>Sex</th>\n",
       "      <th>Age</th>\n",
       "      <th>SibSp</th>\n",
       "      <th>Parch</th>\n",
       "      <th>Fare</th>\n",
       "      <th>Embarked</th>\n",
       "      <th>Survived</th>\n",
       "    </tr>\n",
       "  </thead>\n",
       "  <tbody>\n",
       "    <tr>\n",
       "      <th>0</th>\n",
       "      <td>3</td>\n",
       "      <td>1</td>\n",
       "      <td>35.000000</td>\n",
       "      <td>0</td>\n",
       "      <td>0</td>\n",
       "      <td>7.0500</td>\n",
       "      <td>0</td>\n",
       "      <td>0</td>\n",
       "    </tr>\n",
       "    <tr>\n",
       "      <th>1</th>\n",
       "      <td>3</td>\n",
       "      <td>1</td>\n",
       "      <td>30.000000</td>\n",
       "      <td>0</td>\n",
       "      <td>0</td>\n",
       "      <td>7.2500</td>\n",
       "      <td>0</td>\n",
       "      <td>0</td>\n",
       "    </tr>\n",
       "    <tr>\n",
       "      <th>2</th>\n",
       "      <td>3</td>\n",
       "      <td>1</td>\n",
       "      <td>29.699118</td>\n",
       "      <td>0</td>\n",
       "      <td>0</td>\n",
       "      <td>14.5000</td>\n",
       "      <td>0</td>\n",
       "      <td>0</td>\n",
       "    </tr>\n",
       "    <tr>\n",
       "      <th>3</th>\n",
       "      <td>3</td>\n",
       "      <td>0</td>\n",
       "      <td>21.000000</td>\n",
       "      <td>0</td>\n",
       "      <td>0</td>\n",
       "      <td>7.7500</td>\n",
       "      <td>2</td>\n",
       "      <td>0</td>\n",
       "    </tr>\n",
       "    <tr>\n",
       "      <th>4</th>\n",
       "      <td>3</td>\n",
       "      <td>1</td>\n",
       "      <td>32.000000</td>\n",
       "      <td>0</td>\n",
       "      <td>0</td>\n",
       "      <td>56.4958</td>\n",
       "      <td>0</td>\n",
       "      <td>1</td>\n",
       "    </tr>\n",
       "  </tbody>\n",
       "</table>\n",
       "</div>"
      ],
      "text/plain": [
       "   Pclass  Sex        Age  SibSp  Parch     Fare  Embarked  Survived\n",
       "0       3    1  35.000000      0      0   7.0500         0         0\n",
       "1       3    1  30.000000      0      0   7.2500         0         0\n",
       "2       3    1  29.699118      0      0  14.5000         0         0\n",
       "3       3    0  21.000000      0      0   7.7500         2         0\n",
       "4       3    1  32.000000      0      0  56.4958         0         1"
      ]
     },
     "execution_count": 2,
     "metadata": {},
     "output_type": "execute_result"
    }
   ],
   "source": [
    "train = pd.read_csv(\"titanic_train.csv\")\n",
    "test = pd.read_csv(\"titanic_test.csv\")\n",
    "\n",
    "train.head()\n",
    "test.head()"
   ]
  },
  {
   "cell_type": "code",
   "execution_count": 3,
   "id": "53e27610-b640-4db0-80c9-789b5f5fae58",
   "metadata": {},
   "outputs": [
    {
     "name": "stdout",
     "output_type": "stream",
     "text": [
      "<class 'pandas.core.frame.DataFrame'>\n",
      "RangeIndex: 712 entries, 0 to 711\n",
      "Data columns (total 8 columns):\n",
      " #   Column    Non-Null Count  Dtype  \n",
      "---  ------    --------------  -----  \n",
      " 0   Pclass    712 non-null    int64  \n",
      " 1   Sex       712 non-null    int64  \n",
      " 2   Age       712 non-null    float64\n",
      " 3   SibSp     712 non-null    int64  \n",
      " 4   Parch     712 non-null    int64  \n",
      " 5   Fare      712 non-null    float64\n",
      " 6   Embarked  712 non-null    int64  \n",
      " 7   Survived  712 non-null    int64  \n",
      "dtypes: float64(2), int64(6)\n",
      "memory usage: 44.6 KB\n"
     ]
    },
    {
     "data": {
      "text/html": [
       "<div>\n",
       "<style scoped>\n",
       "    .dataframe tbody tr th:only-of-type {\n",
       "        vertical-align: middle;\n",
       "    }\n",
       "\n",
       "    .dataframe tbody tr th {\n",
       "        vertical-align: top;\n",
       "    }\n",
       "\n",
       "    .dataframe thead th {\n",
       "        text-align: right;\n",
       "    }\n",
       "</style>\n",
       "<table border=\"1\" class=\"dataframe\">\n",
       "  <thead>\n",
       "    <tr style=\"text-align: right;\">\n",
       "      <th></th>\n",
       "      <th>Pclass</th>\n",
       "      <th>Sex</th>\n",
       "      <th>Age</th>\n",
       "      <th>SibSp</th>\n",
       "      <th>Parch</th>\n",
       "      <th>Fare</th>\n",
       "      <th>Embarked</th>\n",
       "      <th>Survived</th>\n",
       "    </tr>\n",
       "  </thead>\n",
       "  <tbody>\n",
       "    <tr>\n",
       "      <th>count</th>\n",
       "      <td>712.000000</td>\n",
       "      <td>712.000000</td>\n",
       "      <td>712.000000</td>\n",
       "      <td>712.000000</td>\n",
       "      <td>712.000000</td>\n",
       "      <td>712.000000</td>\n",
       "      <td>712.000000</td>\n",
       "      <td>712.000000</td>\n",
       "    </tr>\n",
       "    <tr>\n",
       "      <th>mean</th>\n",
       "      <td>2.294944</td>\n",
       "      <td>0.640449</td>\n",
       "      <td>29.531213</td>\n",
       "      <td>0.528090</td>\n",
       "      <td>0.384831</td>\n",
       "      <td>32.379429</td>\n",
       "      <td>0.372191</td>\n",
       "      <td>0.394663</td>\n",
       "    </tr>\n",
       "    <tr>\n",
       "      <th>std</th>\n",
       "      <td>0.841990</td>\n",
       "      <td>0.480206</td>\n",
       "      <td>13.188028</td>\n",
       "      <td>1.055052</td>\n",
       "      <td>0.803085</td>\n",
       "      <td>49.836074</td>\n",
       "      <td>0.649970</td>\n",
       "      <td>0.489122</td>\n",
       "    </tr>\n",
       "    <tr>\n",
       "      <th>min</th>\n",
       "      <td>1.000000</td>\n",
       "      <td>0.000000</td>\n",
       "      <td>0.670000</td>\n",
       "      <td>0.000000</td>\n",
       "      <td>0.000000</td>\n",
       "      <td>0.000000</td>\n",
       "      <td>0.000000</td>\n",
       "      <td>0.000000</td>\n",
       "    </tr>\n",
       "    <tr>\n",
       "      <th>25%</th>\n",
       "      <td>1.750000</td>\n",
       "      <td>0.000000</td>\n",
       "      <td>22.000000</td>\n",
       "      <td>0.000000</td>\n",
       "      <td>0.000000</td>\n",
       "      <td>7.925000</td>\n",
       "      <td>0.000000</td>\n",
       "      <td>0.000000</td>\n",
       "    </tr>\n",
       "    <tr>\n",
       "      <th>50%</th>\n",
       "      <td>3.000000</td>\n",
       "      <td>1.000000</td>\n",
       "      <td>29.699118</td>\n",
       "      <td>0.000000</td>\n",
       "      <td>0.000000</td>\n",
       "      <td>14.500000</td>\n",
       "      <td>0.000000</td>\n",
       "      <td>0.000000</td>\n",
       "    </tr>\n",
       "    <tr>\n",
       "      <th>75%</th>\n",
       "      <td>3.000000</td>\n",
       "      <td>1.000000</td>\n",
       "      <td>35.000000</td>\n",
       "      <td>1.000000</td>\n",
       "      <td>0.000000</td>\n",
       "      <td>31.275000</td>\n",
       "      <td>1.000000</td>\n",
       "      <td>1.000000</td>\n",
       "    </tr>\n",
       "    <tr>\n",
       "      <th>max</th>\n",
       "      <td>3.000000</td>\n",
       "      <td>1.000000</td>\n",
       "      <td>80.000000</td>\n",
       "      <td>8.000000</td>\n",
       "      <td>6.000000</td>\n",
       "      <td>512.329200</td>\n",
       "      <td>3.000000</td>\n",
       "      <td>1.000000</td>\n",
       "    </tr>\n",
       "  </tbody>\n",
       "</table>\n",
       "</div>"
      ],
      "text/plain": [
       "           Pclass         Sex         Age       SibSp       Parch        Fare  \\\n",
       "count  712.000000  712.000000  712.000000  712.000000  712.000000  712.000000   \n",
       "mean     2.294944    0.640449   29.531213    0.528090    0.384831   32.379429   \n",
       "std      0.841990    0.480206   13.188028    1.055052    0.803085   49.836074   \n",
       "min      1.000000    0.000000    0.670000    0.000000    0.000000    0.000000   \n",
       "25%      1.750000    0.000000   22.000000    0.000000    0.000000    7.925000   \n",
       "50%      3.000000    1.000000   29.699118    0.000000    0.000000   14.500000   \n",
       "75%      3.000000    1.000000   35.000000    1.000000    0.000000   31.275000   \n",
       "max      3.000000    1.000000   80.000000    8.000000    6.000000  512.329200   \n",
       "\n",
       "         Embarked    Survived  \n",
       "count  712.000000  712.000000  \n",
       "mean     0.372191    0.394663  \n",
       "std      0.649970    0.489122  \n",
       "min      0.000000    0.000000  \n",
       "25%      0.000000    0.000000  \n",
       "50%      0.000000    0.000000  \n",
       "75%      1.000000    1.000000  \n",
       "max      3.000000    1.000000  "
      ]
     },
     "execution_count": 3,
     "metadata": {},
     "output_type": "execute_result"
    }
   ],
   "source": [
    "train.info()\n",
    "train.describe()"
   ]
  },
  {
   "cell_type": "code",
   "execution_count": 4,
   "id": "d973606b",
   "metadata": {},
   "outputs": [
    {
     "data": {
      "application/vnd.plotly.v1+json": {
       "config": {
        "plotlyServerURL": "https://plot.ly"
       },
       "data": [
        {
         "bingroup": "x",
         "hovertemplate": "Survived=%{x}<br>count=%{y}<extra></extra>",
         "legendgroup": "1",
         "marker": {
          "color": "darkgreen",
          "pattern": {
           "shape": ""
          }
         },
         "name": "1",
         "orientation": "v",
         "showlegend": true,
         "type": "histogram",
         "x": {
          "bdata": "AQEBAQEBAQEBAQEBAQEBAQEBAQEBAQEBAQEBAQEBAQEBAQEBAQEBAQEBAQEBAQEBAQEBAQEBAQEBAQEBAQEBAQEBAQEBAQEBAQEBAQEBAQEBAQEBAQEBAQEBAQEBAQEBAQEBAQEBAQEBAQEBAQEBAQEBAQEBAQEBAQEBAQEBAQEBAQEBAQEBAQEBAQEBAQEBAQEBAQEBAQEBAQEBAQEBAQEBAQEBAQEBAQEBAQEBAQEBAQEBAQEBAQEBAQEBAQEBAQEBAQEBAQEBAQEBAQEBAQEBAQEBAQEBAQEBAQEBAQEBAQEBAQEBAQEBAQEBAQEBAQEBAQEBAQEBAQEBAQEBAQEBAQEBAQEBAQEBAQEBAQEBAQEBAQEBAQE=",
          "dtype": "i1"
         },
         "xaxis": "x",
         "yaxis": "y"
        },
        {
         "bingroup": "x",
         "hovertemplate": "Survived=%{x}<br>count=%{y}<extra></extra>",
         "legendgroup": "0",
         "marker": {
          "color": "darkred",
          "pattern": {
           "shape": ""
          }
         },
         "name": "0",
         "orientation": "v",
         "showlegend": true,
         "type": "histogram",
         "x": {
          "bdata": "AAAAAAAAAAAAAAAAAAAAAAAAAAAAAAAAAAAAAAAAAAAAAAAAAAAAAAAAAAAAAAAAAAAAAAAAAAAAAAAAAAAAAAAAAAAAAAAAAAAAAAAAAAAAAAAAAAAAAAAAAAAAAAAAAAAAAAAAAAAAAAAAAAAAAAAAAAAAAAAAAAAAAAAAAAAAAAAAAAAAAAAAAAAAAAAAAAAAAAAAAAAAAAAAAAAAAAAAAAAAAAAAAAAAAAAAAAAAAAAAAAAAAAAAAAAAAAAAAAAAAAAAAAAAAAAAAAAAAAAAAAAAAAAAAAAAAAAAAAAAAAAAAAAAAAAAAAAAAAAAAAAAAAAAAAAAAAAAAAAAAAAAAAAAAAAAAAAAAAAAAAAAAAAAAAAAAAAAAAAAAAAAAAAAAAAAAAAAAAAAAAAAAAAAAAAAAAAAAAAAAAAAAAAAAAAAAAAAAAAAAAAAAAAAAAAAAAAAAAAAAAAAAAAAAAAAAAAAAAAAAAAAAAAAAAAAAAAAAAAAAAAAAAAAAAAAAAAAAAAAAAAAAAAAAAAAAAAAAAAAAAAAAAAAAAAAAAAAAAAAAAAAAAAAAAAAAAA=",
          "dtype": "i1"
         },
         "xaxis": "x",
         "yaxis": "y"
        }
       ],
       "layout": {
        "barmode": "relative",
        "legend": {
         "title": {
          "text": "Survived"
         },
         "tracegroupgap": 0
        },
        "template": {
         "data": {
          "bar": [
           {
            "error_x": {
             "color": "#2a3f5f"
            },
            "error_y": {
             "color": "#2a3f5f"
            },
            "marker": {
             "line": {
              "color": "#E5ECF6",
              "width": 0.5
             },
             "pattern": {
              "fillmode": "overlay",
              "size": 10,
              "solidity": 0.2
             }
            },
            "type": "bar"
           }
          ],
          "barpolar": [
           {
            "marker": {
             "line": {
              "color": "#E5ECF6",
              "width": 0.5
             },
             "pattern": {
              "fillmode": "overlay",
              "size": 10,
              "solidity": 0.2
             }
            },
            "type": "barpolar"
           }
          ],
          "carpet": [
           {
            "aaxis": {
             "endlinecolor": "#2a3f5f",
             "gridcolor": "white",
             "linecolor": "white",
             "minorgridcolor": "white",
             "startlinecolor": "#2a3f5f"
            },
            "baxis": {
             "endlinecolor": "#2a3f5f",
             "gridcolor": "white",
             "linecolor": "white",
             "minorgridcolor": "white",
             "startlinecolor": "#2a3f5f"
            },
            "type": "carpet"
           }
          ],
          "choropleth": [
           {
            "colorbar": {
             "outlinewidth": 0,
             "ticks": ""
            },
            "type": "choropleth"
           }
          ],
          "contour": [
           {
            "colorbar": {
             "outlinewidth": 0,
             "ticks": ""
            },
            "colorscale": [
             [
              0,
              "#0d0887"
             ],
             [
              0.1111111111111111,
              "#46039f"
             ],
             [
              0.2222222222222222,
              "#7201a8"
             ],
             [
              0.3333333333333333,
              "#9c179e"
             ],
             [
              0.4444444444444444,
              "#bd3786"
             ],
             [
              0.5555555555555556,
              "#d8576b"
             ],
             [
              0.6666666666666666,
              "#ed7953"
             ],
             [
              0.7777777777777778,
              "#fb9f3a"
             ],
             [
              0.8888888888888888,
              "#fdca26"
             ],
             [
              1,
              "#f0f921"
             ]
            ],
            "type": "contour"
           }
          ],
          "contourcarpet": [
           {
            "colorbar": {
             "outlinewidth": 0,
             "ticks": ""
            },
            "type": "contourcarpet"
           }
          ],
          "heatmap": [
           {
            "colorbar": {
             "outlinewidth": 0,
             "ticks": ""
            },
            "colorscale": [
             [
              0,
              "#0d0887"
             ],
             [
              0.1111111111111111,
              "#46039f"
             ],
             [
              0.2222222222222222,
              "#7201a8"
             ],
             [
              0.3333333333333333,
              "#9c179e"
             ],
             [
              0.4444444444444444,
              "#bd3786"
             ],
             [
              0.5555555555555556,
              "#d8576b"
             ],
             [
              0.6666666666666666,
              "#ed7953"
             ],
             [
              0.7777777777777778,
              "#fb9f3a"
             ],
             [
              0.8888888888888888,
              "#fdca26"
             ],
             [
              1,
              "#f0f921"
             ]
            ],
            "type": "heatmap"
           }
          ],
          "histogram": [
           {
            "marker": {
             "pattern": {
              "fillmode": "overlay",
              "size": 10,
              "solidity": 0.2
             }
            },
            "type": "histogram"
           }
          ],
          "histogram2d": [
           {
            "colorbar": {
             "outlinewidth": 0,
             "ticks": ""
            },
            "colorscale": [
             [
              0,
              "#0d0887"
             ],
             [
              0.1111111111111111,
              "#46039f"
             ],
             [
              0.2222222222222222,
              "#7201a8"
             ],
             [
              0.3333333333333333,
              "#9c179e"
             ],
             [
              0.4444444444444444,
              "#bd3786"
             ],
             [
              0.5555555555555556,
              "#d8576b"
             ],
             [
              0.6666666666666666,
              "#ed7953"
             ],
             [
              0.7777777777777778,
              "#fb9f3a"
             ],
             [
              0.8888888888888888,
              "#fdca26"
             ],
             [
              1,
              "#f0f921"
             ]
            ],
            "type": "histogram2d"
           }
          ],
          "histogram2dcontour": [
           {
            "colorbar": {
             "outlinewidth": 0,
             "ticks": ""
            },
            "colorscale": [
             [
              0,
              "#0d0887"
             ],
             [
              0.1111111111111111,
              "#46039f"
             ],
             [
              0.2222222222222222,
              "#7201a8"
             ],
             [
              0.3333333333333333,
              "#9c179e"
             ],
             [
              0.4444444444444444,
              "#bd3786"
             ],
             [
              0.5555555555555556,
              "#d8576b"
             ],
             [
              0.6666666666666666,
              "#ed7953"
             ],
             [
              0.7777777777777778,
              "#fb9f3a"
             ],
             [
              0.8888888888888888,
              "#fdca26"
             ],
             [
              1,
              "#f0f921"
             ]
            ],
            "type": "histogram2dcontour"
           }
          ],
          "mesh3d": [
           {
            "colorbar": {
             "outlinewidth": 0,
             "ticks": ""
            },
            "type": "mesh3d"
           }
          ],
          "parcoords": [
           {
            "line": {
             "colorbar": {
              "outlinewidth": 0,
              "ticks": ""
             }
            },
            "type": "parcoords"
           }
          ],
          "pie": [
           {
            "automargin": true,
            "type": "pie"
           }
          ],
          "scatter": [
           {
            "fillpattern": {
             "fillmode": "overlay",
             "size": 10,
             "solidity": 0.2
            },
            "type": "scatter"
           }
          ],
          "scatter3d": [
           {
            "line": {
             "colorbar": {
              "outlinewidth": 0,
              "ticks": ""
             }
            },
            "marker": {
             "colorbar": {
              "outlinewidth": 0,
              "ticks": ""
             }
            },
            "type": "scatter3d"
           }
          ],
          "scattercarpet": [
           {
            "marker": {
             "colorbar": {
              "outlinewidth": 0,
              "ticks": ""
             }
            },
            "type": "scattercarpet"
           }
          ],
          "scattergeo": [
           {
            "marker": {
             "colorbar": {
              "outlinewidth": 0,
              "ticks": ""
             }
            },
            "type": "scattergeo"
           }
          ],
          "scattergl": [
           {
            "marker": {
             "colorbar": {
              "outlinewidth": 0,
              "ticks": ""
             }
            },
            "type": "scattergl"
           }
          ],
          "scattermap": [
           {
            "marker": {
             "colorbar": {
              "outlinewidth": 0,
              "ticks": ""
             }
            },
            "type": "scattermap"
           }
          ],
          "scattermapbox": [
           {
            "marker": {
             "colorbar": {
              "outlinewidth": 0,
              "ticks": ""
             }
            },
            "type": "scattermapbox"
           }
          ],
          "scatterpolar": [
           {
            "marker": {
             "colorbar": {
              "outlinewidth": 0,
              "ticks": ""
             }
            },
            "type": "scatterpolar"
           }
          ],
          "scatterpolargl": [
           {
            "marker": {
             "colorbar": {
              "outlinewidth": 0,
              "ticks": ""
             }
            },
            "type": "scatterpolargl"
           }
          ],
          "scatterternary": [
           {
            "marker": {
             "colorbar": {
              "outlinewidth": 0,
              "ticks": ""
             }
            },
            "type": "scatterternary"
           }
          ],
          "surface": [
           {
            "colorbar": {
             "outlinewidth": 0,
             "ticks": ""
            },
            "colorscale": [
             [
              0,
              "#0d0887"
             ],
             [
              0.1111111111111111,
              "#46039f"
             ],
             [
              0.2222222222222222,
              "#7201a8"
             ],
             [
              0.3333333333333333,
              "#9c179e"
             ],
             [
              0.4444444444444444,
              "#bd3786"
             ],
             [
              0.5555555555555556,
              "#d8576b"
             ],
             [
              0.6666666666666666,
              "#ed7953"
             ],
             [
              0.7777777777777778,
              "#fb9f3a"
             ],
             [
              0.8888888888888888,
              "#fdca26"
             ],
             [
              1,
              "#f0f921"
             ]
            ],
            "type": "surface"
           }
          ],
          "table": [
           {
            "cells": {
             "fill": {
              "color": "#EBF0F8"
             },
             "line": {
              "color": "white"
             }
            },
            "header": {
             "fill": {
              "color": "#C8D4E3"
             },
             "line": {
              "color": "white"
             }
            },
            "type": "table"
           }
          ]
         },
         "layout": {
          "annotationdefaults": {
           "arrowcolor": "#2a3f5f",
           "arrowhead": 0,
           "arrowwidth": 1
          },
          "autotypenumbers": "strict",
          "coloraxis": {
           "colorbar": {
            "outlinewidth": 0,
            "ticks": ""
           }
          },
          "colorscale": {
           "diverging": [
            [
             0,
             "#8e0152"
            ],
            [
             0.1,
             "#c51b7d"
            ],
            [
             0.2,
             "#de77ae"
            ],
            [
             0.3,
             "#f1b6da"
            ],
            [
             0.4,
             "#fde0ef"
            ],
            [
             0.5,
             "#f7f7f7"
            ],
            [
             0.6,
             "#e6f5d0"
            ],
            [
             0.7,
             "#b8e186"
            ],
            [
             0.8,
             "#7fbc41"
            ],
            [
             0.9,
             "#4d9221"
            ],
            [
             1,
             "#276419"
            ]
           ],
           "sequential": [
            [
             0,
             "#0d0887"
            ],
            [
             0.1111111111111111,
             "#46039f"
            ],
            [
             0.2222222222222222,
             "#7201a8"
            ],
            [
             0.3333333333333333,
             "#9c179e"
            ],
            [
             0.4444444444444444,
             "#bd3786"
            ],
            [
             0.5555555555555556,
             "#d8576b"
            ],
            [
             0.6666666666666666,
             "#ed7953"
            ],
            [
             0.7777777777777778,
             "#fb9f3a"
            ],
            [
             0.8888888888888888,
             "#fdca26"
            ],
            [
             1,
             "#f0f921"
            ]
           ],
           "sequentialminus": [
            [
             0,
             "#0d0887"
            ],
            [
             0.1111111111111111,
             "#46039f"
            ],
            [
             0.2222222222222222,
             "#7201a8"
            ],
            [
             0.3333333333333333,
             "#9c179e"
            ],
            [
             0.4444444444444444,
             "#bd3786"
            ],
            [
             0.5555555555555556,
             "#d8576b"
            ],
            [
             0.6666666666666666,
             "#ed7953"
            ],
            [
             0.7777777777777778,
             "#fb9f3a"
            ],
            [
             0.8888888888888888,
             "#fdca26"
            ],
            [
             1,
             "#f0f921"
            ]
           ]
          },
          "colorway": [
           "#636efa",
           "#EF553B",
           "#00cc96",
           "#ab63fa",
           "#FFA15A",
           "#19d3f3",
           "#FF6692",
           "#B6E880",
           "#FF97FF",
           "#FECB52"
          ],
          "font": {
           "color": "#2a3f5f"
          },
          "geo": {
           "bgcolor": "white",
           "lakecolor": "white",
           "landcolor": "#E5ECF6",
           "showlakes": true,
           "showland": true,
           "subunitcolor": "white"
          },
          "hoverlabel": {
           "align": "left"
          },
          "hovermode": "closest",
          "mapbox": {
           "style": "light"
          },
          "paper_bgcolor": "white",
          "plot_bgcolor": "#E5ECF6",
          "polar": {
           "angularaxis": {
            "gridcolor": "white",
            "linecolor": "white",
            "ticks": ""
           },
           "bgcolor": "#E5ECF6",
           "radialaxis": {
            "gridcolor": "white",
            "linecolor": "white",
            "ticks": ""
           }
          },
          "scene": {
           "xaxis": {
            "backgroundcolor": "#E5ECF6",
            "gridcolor": "white",
            "gridwidth": 2,
            "linecolor": "white",
            "showbackground": true,
            "ticks": "",
            "zerolinecolor": "white"
           },
           "yaxis": {
            "backgroundcolor": "#E5ECF6",
            "gridcolor": "white",
            "gridwidth": 2,
            "linecolor": "white",
            "showbackground": true,
            "ticks": "",
            "zerolinecolor": "white"
           },
           "zaxis": {
            "backgroundcolor": "#E5ECF6",
            "gridcolor": "white",
            "gridwidth": 2,
            "linecolor": "white",
            "showbackground": true,
            "ticks": "",
            "zerolinecolor": "white"
           }
          },
          "shapedefaults": {
           "line": {
            "color": "#2a3f5f"
           }
          },
          "ternary": {
           "aaxis": {
            "gridcolor": "white",
            "linecolor": "white",
            "ticks": ""
           },
           "baxis": {
            "gridcolor": "white",
            "linecolor": "white",
            "ticks": ""
           },
           "bgcolor": "#E5ECF6",
           "caxis": {
            "gridcolor": "white",
            "linecolor": "white",
            "ticks": ""
           }
          },
          "title": {
           "x": 0.05
          },
          "xaxis": {
           "automargin": true,
           "gridcolor": "white",
           "linecolor": "white",
           "ticks": "",
           "title": {
            "standoff": 15
           },
           "zerolinecolor": "white",
           "zerolinewidth": 2
          },
          "yaxis": {
           "automargin": true,
           "gridcolor": "white",
           "linecolor": "white",
           "ticks": "",
           "title": {
            "standoff": 15
           },
           "zerolinecolor": "white",
           "zerolinewidth": 2
          }
         }
        },
        "title": {
         "text": "Survival Count (Interactive)"
        },
        "xaxis": {
         "anchor": "y",
         "categoryarray": [
          1,
          0
         ],
         "categoryorder": "array",
         "domain": [
          0,
          1
         ],
         "title": {
          "text": "Survived"
         }
        },
        "yaxis": {
         "anchor": "x",
         "domain": [
          0,
          1
         ],
         "title": {
          "text": "count"
         }
        }
       }
      }
     },
     "metadata": {},
     "output_type": "display_data"
    }
   ],
   "source": [
    "fig = px.histogram(train, x='Survived', color='Survived',\n",
    "                   title='Survival Count (Interactive)',\n",
    "                   color_discrete_map={0: 'darkred', 1: 'darkgreen'})\n",
    "fig.show()"
   ]
  },
  {
   "cell_type": "code",
   "execution_count": 5,
   "id": "9b600b31",
   "metadata": {},
   "outputs": [
    {
     "data": {
      "application/vnd.plotly.v1+json": {
       "config": {
        "plotlyServerURL": "https://plot.ly"
       },
       "data": [
        {
         "bingroup": "x",
         "hovertemplate": "Age=%{x}<br>count=%{y}<extra></extra>",
         "legendgroup": "",
         "marker": {
          "color": "#636efa",
          "pattern": {
           "shape": ""
          }
         },
         "name": "",
         "nbinsx": 30,
         "orientation": "v",
         "showlegend": false,
         "type": "histogram",
         "x": {
          "bdata": "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",
          "dtype": "f8"
         },
         "xaxis": "x",
         "yaxis": "y"
        }
       ],
       "layout": {
        "barmode": "relative",
        "legend": {
         "tracegroupgap": 0
        },
        "template": {
         "data": {
          "bar": [
           {
            "error_x": {
             "color": "#2a3f5f"
            },
            "error_y": {
             "color": "#2a3f5f"
            },
            "marker": {
             "line": {
              "color": "#E5ECF6",
              "width": 0.5
             },
             "pattern": {
              "fillmode": "overlay",
              "size": 10,
              "solidity": 0.2
             }
            },
            "type": "bar"
           }
          ],
          "barpolar": [
           {
            "marker": {
             "line": {
              "color": "#E5ECF6",
              "width": 0.5
             },
             "pattern": {
              "fillmode": "overlay",
              "size": 10,
              "solidity": 0.2
             }
            },
            "type": "barpolar"
           }
          ],
          "carpet": [
           {
            "aaxis": {
             "endlinecolor": "#2a3f5f",
             "gridcolor": "white",
             "linecolor": "white",
             "minorgridcolor": "white",
             "startlinecolor": "#2a3f5f"
            },
            "baxis": {
             "endlinecolor": "#2a3f5f",
             "gridcolor": "white",
             "linecolor": "white",
             "minorgridcolor": "white",
             "startlinecolor": "#2a3f5f"
            },
            "type": "carpet"
           }
          ],
          "choropleth": [
           {
            "colorbar": {
             "outlinewidth": 0,
             "ticks": ""
            },
            "type": "choropleth"
           }
          ],
          "contour": [
           {
            "colorbar": {
             "outlinewidth": 0,
             "ticks": ""
            },
            "colorscale": [
             [
              0,
              "#0d0887"
             ],
             [
              0.1111111111111111,
              "#46039f"
             ],
             [
              0.2222222222222222,
              "#7201a8"
             ],
             [
              0.3333333333333333,
              "#9c179e"
             ],
             [
              0.4444444444444444,
              "#bd3786"
             ],
             [
              0.5555555555555556,
              "#d8576b"
             ],
             [
              0.6666666666666666,
              "#ed7953"
             ],
             [
              0.7777777777777778,
              "#fb9f3a"
             ],
             [
              0.8888888888888888,
              "#fdca26"
             ],
             [
              1,
              "#f0f921"
             ]
            ],
            "type": "contour"
           }
          ],
          "contourcarpet": [
           {
            "colorbar": {
             "outlinewidth": 0,
             "ticks": ""
            },
            "type": "contourcarpet"
           }
          ],
          "heatmap": [
           {
            "colorbar": {
             "outlinewidth": 0,
             "ticks": ""
            },
            "colorscale": [
             [
              0,
              "#0d0887"
             ],
             [
              0.1111111111111111,
              "#46039f"
             ],
             [
              0.2222222222222222,
              "#7201a8"
             ],
             [
              0.3333333333333333,
              "#9c179e"
             ],
             [
              0.4444444444444444,
              "#bd3786"
             ],
             [
              0.5555555555555556,
              "#d8576b"
             ],
             [
              0.6666666666666666,
              "#ed7953"
             ],
             [
              0.7777777777777778,
              "#fb9f3a"
             ],
             [
              0.8888888888888888,
              "#fdca26"
             ],
             [
              1,
              "#f0f921"
             ]
            ],
            "type": "heatmap"
           }
          ],
          "histogram": [
           {
            "marker": {
             "pattern": {
              "fillmode": "overlay",
              "size": 10,
              "solidity": 0.2
             }
            },
            "type": "histogram"
           }
          ],
          "histogram2d": [
           {
            "colorbar": {
             "outlinewidth": 0,
             "ticks": ""
            },
            "colorscale": [
             [
              0,
              "#0d0887"
             ],
             [
              0.1111111111111111,
              "#46039f"
             ],
             [
              0.2222222222222222,
              "#7201a8"
             ],
             [
              0.3333333333333333,
              "#9c179e"
             ],
             [
              0.4444444444444444,
              "#bd3786"
             ],
             [
              0.5555555555555556,
              "#d8576b"
             ],
             [
              0.6666666666666666,
              "#ed7953"
             ],
             [
              0.7777777777777778,
              "#fb9f3a"
             ],
             [
              0.8888888888888888,
              "#fdca26"
             ],
             [
              1,
              "#f0f921"
             ]
            ],
            "type": "histogram2d"
           }
          ],
          "histogram2dcontour": [
           {
            "colorbar": {
             "outlinewidth": 0,
             "ticks": ""
            },
            "colorscale": [
             [
              0,
              "#0d0887"
             ],
             [
              0.1111111111111111,
              "#46039f"
             ],
             [
              0.2222222222222222,
              "#7201a8"
             ],
             [
              0.3333333333333333,
              "#9c179e"
             ],
             [
              0.4444444444444444,
              "#bd3786"
             ],
             [
              0.5555555555555556,
              "#d8576b"
             ],
             [
              0.6666666666666666,
              "#ed7953"
             ],
             [
              0.7777777777777778,
              "#fb9f3a"
             ],
             [
              0.8888888888888888,
              "#fdca26"
             ],
             [
              1,
              "#f0f921"
             ]
            ],
            "type": "histogram2dcontour"
           }
          ],
          "mesh3d": [
           {
            "colorbar": {
             "outlinewidth": 0,
             "ticks": ""
            },
            "type": "mesh3d"
           }
          ],
          "parcoords": [
           {
            "line": {
             "colorbar": {
              "outlinewidth": 0,
              "ticks": ""
             }
            },
            "type": "parcoords"
           }
          ],
          "pie": [
           {
            "automargin": true,
            "type": "pie"
           }
          ],
          "scatter": [
           {
            "fillpattern": {
             "fillmode": "overlay",
             "size": 10,
             "solidity": 0.2
            },
            "type": "scatter"
           }
          ],
          "scatter3d": [
           {
            "line": {
             "colorbar": {
              "outlinewidth": 0,
              "ticks": ""
             }
            },
            "marker": {
             "colorbar": {
              "outlinewidth": 0,
              "ticks": ""
             }
            },
            "type": "scatter3d"
           }
          ],
          "scattercarpet": [
           {
            "marker": {
             "colorbar": {
              "outlinewidth": 0,
              "ticks": ""
             }
            },
            "type": "scattercarpet"
           }
          ],
          "scattergeo": [
           {
            "marker": {
             "colorbar": {
              "outlinewidth": 0,
              "ticks": ""
             }
            },
            "type": "scattergeo"
           }
          ],
          "scattergl": [
           {
            "marker": {
             "colorbar": {
              "outlinewidth": 0,
              "ticks": ""
             }
            },
            "type": "scattergl"
           }
          ],
          "scattermap": [
           {
            "marker": {
             "colorbar": {
              "outlinewidth": 0,
              "ticks": ""
             }
            },
            "type": "scattermap"
           }
          ],
          "scattermapbox": [
           {
            "marker": {
             "colorbar": {
              "outlinewidth": 0,
              "ticks": ""
             }
            },
            "type": "scattermapbox"
           }
          ],
          "scatterpolar": [
           {
            "marker": {
             "colorbar": {
              "outlinewidth": 0,
              "ticks": ""
             }
            },
            "type": "scatterpolar"
           }
          ],
          "scatterpolargl": [
           {
            "marker": {
             "colorbar": {
              "outlinewidth": 0,
              "ticks": ""
             }
            },
            "type": "scatterpolargl"
           }
          ],
          "scatterternary": [
           {
            "marker": {
             "colorbar": {
              "outlinewidth": 0,
              "ticks": ""
             }
            },
            "type": "scatterternary"
           }
          ],
          "surface": [
           {
            "colorbar": {
             "outlinewidth": 0,
             "ticks": ""
            },
            "colorscale": [
             [
              0,
              "#0d0887"
             ],
             [
              0.1111111111111111,
              "#46039f"
             ],
             [
              0.2222222222222222,
              "#7201a8"
             ],
             [
              0.3333333333333333,
              "#9c179e"
             ],
             [
              0.4444444444444444,
              "#bd3786"
             ],
             [
              0.5555555555555556,
              "#d8576b"
             ],
             [
              0.6666666666666666,
              "#ed7953"
             ],
             [
              0.7777777777777778,
              "#fb9f3a"
             ],
             [
              0.8888888888888888,
              "#fdca26"
             ],
             [
              1,
              "#f0f921"
             ]
            ],
            "type": "surface"
           }
          ],
          "table": [
           {
            "cells": {
             "fill": {
              "color": "#EBF0F8"
             },
             "line": {
              "color": "white"
             }
            },
            "header": {
             "fill": {
              "color": "#C8D4E3"
             },
             "line": {
              "color": "white"
             }
            },
            "type": "table"
           }
          ]
         },
         "layout": {
          "annotationdefaults": {
           "arrowcolor": "#2a3f5f",
           "arrowhead": 0,
           "arrowwidth": 1
          },
          "autotypenumbers": "strict",
          "coloraxis": {
           "colorbar": {
            "outlinewidth": 0,
            "ticks": ""
           }
          },
          "colorscale": {
           "diverging": [
            [
             0,
             "#8e0152"
            ],
            [
             0.1,
             "#c51b7d"
            ],
            [
             0.2,
             "#de77ae"
            ],
            [
             0.3,
             "#f1b6da"
            ],
            [
             0.4,
             "#fde0ef"
            ],
            [
             0.5,
             "#f7f7f7"
            ],
            [
             0.6,
             "#e6f5d0"
            ],
            [
             0.7,
             "#b8e186"
            ],
            [
             0.8,
             "#7fbc41"
            ],
            [
             0.9,
             "#4d9221"
            ],
            [
             1,
             "#276419"
            ]
           ],
           "sequential": [
            [
             0,
             "#0d0887"
            ],
            [
             0.1111111111111111,
             "#46039f"
            ],
            [
             0.2222222222222222,
             "#7201a8"
            ],
            [
             0.3333333333333333,
             "#9c179e"
            ],
            [
             0.4444444444444444,
             "#bd3786"
            ],
            [
             0.5555555555555556,
             "#d8576b"
            ],
            [
             0.6666666666666666,
             "#ed7953"
            ],
            [
             0.7777777777777778,
             "#fb9f3a"
            ],
            [
             0.8888888888888888,
             "#fdca26"
            ],
            [
             1,
             "#f0f921"
            ]
           ],
           "sequentialminus": [
            [
             0,
             "#0d0887"
            ],
            [
             0.1111111111111111,
             "#46039f"
            ],
            [
             0.2222222222222222,
             "#7201a8"
            ],
            [
             0.3333333333333333,
             "#9c179e"
            ],
            [
             0.4444444444444444,
             "#bd3786"
            ],
            [
             0.5555555555555556,
             "#d8576b"
            ],
            [
             0.6666666666666666,
             "#ed7953"
            ],
            [
             0.7777777777777778,
             "#fb9f3a"
            ],
            [
             0.8888888888888888,
             "#fdca26"
            ],
            [
             1,
             "#f0f921"
            ]
           ]
          },
          "colorway": [
           "#636efa",
           "#EF553B",
           "#00cc96",
           "#ab63fa",
           "#FFA15A",
           "#19d3f3",
           "#FF6692",
           "#B6E880",
           "#FF97FF",
           "#FECB52"
          ],
          "font": {
           "color": "#2a3f5f"
          },
          "geo": {
           "bgcolor": "white",
           "lakecolor": "white",
           "landcolor": "#E5ECF6",
           "showlakes": true,
           "showland": true,
           "subunitcolor": "white"
          },
          "hoverlabel": {
           "align": "left"
          },
          "hovermode": "closest",
          "mapbox": {
           "style": "light"
          },
          "paper_bgcolor": "white",
          "plot_bgcolor": "#E5ECF6",
          "polar": {
           "angularaxis": {
            "gridcolor": "white",
            "linecolor": "white",
            "ticks": ""
           },
           "bgcolor": "#E5ECF6",
           "radialaxis": {
            "gridcolor": "white",
            "linecolor": "white",
            "ticks": ""
           }
          },
          "scene": {
           "xaxis": {
            "backgroundcolor": "#E5ECF6",
            "gridcolor": "white",
            "gridwidth": 2,
            "linecolor": "white",
            "showbackground": true,
            "ticks": "",
            "zerolinecolor": "white"
           },
           "yaxis": {
            "backgroundcolor": "#E5ECF6",
            "gridcolor": "white",
            "gridwidth": 2,
            "linecolor": "white",
            "showbackground": true,
            "ticks": "",
            "zerolinecolor": "white"
           },
           "zaxis": {
            "backgroundcolor": "#E5ECF6",
            "gridcolor": "white",
            "gridwidth": 2,
            "linecolor": "white",
            "showbackground": true,
            "ticks": "",
            "zerolinecolor": "white"
           }
          },
          "shapedefaults": {
           "line": {
            "color": "#2a3f5f"
           }
          },
          "ternary": {
           "aaxis": {
            "gridcolor": "white",
            "linecolor": "white",
            "ticks": ""
           },
           "baxis": {
            "gridcolor": "white",
            "linecolor": "white",
            "ticks": ""
           },
           "bgcolor": "#E5ECF6",
           "caxis": {
            "gridcolor": "white",
            "linecolor": "white",
            "ticks": ""
           }
          },
          "title": {
           "x": 0.05
          },
          "xaxis": {
           "automargin": true,
           "gridcolor": "white",
           "linecolor": "white",
           "ticks": "",
           "title": {
            "standoff": 15
           },
           "zerolinecolor": "white",
           "zerolinewidth": 2
          },
          "yaxis": {
           "automargin": true,
           "gridcolor": "white",
           "linecolor": "white",
           "ticks": "",
           "title": {
            "standoff": 15
           },
           "zerolinecolor": "white",
           "zerolinewidth": 2
          }
         }
        },
        "title": {
         "text": "Age Distribution"
        },
        "xaxis": {
         "anchor": "y",
         "domain": [
          0,
          1
         ],
         "title": {
          "text": "Age"
         }
        },
        "yaxis": {
         "anchor": "x",
         "domain": [
          0,
          1
         ],
         "title": {
          "text": "count"
         }
        }
       }
      }
     },
     "metadata": {},
     "output_type": "display_data"
    }
   ],
   "source": [
    "fig = px.histogram(train, x='Age', nbins=30, title='Age Distribution')\n",
    "fig.show()"
   ]
  },
  {
   "cell_type": "code",
   "execution_count": 6,
   "id": "fc09a70e",
   "metadata": {},
   "outputs": [
    {
     "data": {
      "application/vnd.plotly.v1+json": {
       "config": {
        "plotlyServerURL": "https://plot.ly"
       },
       "data": [
        {
         "alignmentgroup": "True",
         "bingroup": "x",
         "hovertemplate": "Survived=1<br>Sex=%{x}<br>count=%{y}<extra></extra>",
         "legendgroup": "1",
         "marker": {
          "color": "#636efa",
          "pattern": {
           "shape": ""
          }
         },
         "name": "1",
         "offsetgroup": "1",
         "orientation": "v",
         "showlegend": true,
         "type": "histogram",
         "x": {
          "bdata": "AAAAAAAAAQABAAAAAAAAAQAAAQAAAAABAQEAAAAAAAEAAQABAQEAAQEBAAEBAAAAAAEBAAAAAAAAAAABAQAAAAAAAQABAAAAAQAAAAAAAAEAAQAAAAAAAQABAQAAAAEAAQAAAAAAAQABAAAAAAEBAAAAAAAAAAABAAEAAAAAAAABAAABAQAAAAEBAAAAAAAAAAEBAAAAAQABAAEBAAAAAQABAAEAAQABAAEAAAAAAAAAAAAAAQAAAQABAAEAAAEBAAEAAAEBAAABAAAAAQEAAAAAAAAAAAAAAQABAAEBAAAAAAAAAQABAQABAAABAQEAAAAAAAAAAAEAAQAAAQAAAQAAAQEAAAAAAAEAAAAAAAAAAAEAAQEBAAA=",
          "dtype": "i1"
         },
         "xaxis": "x",
         "yaxis": "y"
        },
        {
         "alignmentgroup": "True",
         "bingroup": "x",
         "hovertemplate": "Survived=0<br>Sex=%{x}<br>count=%{y}<extra></extra>",
         "legendgroup": "0",
         "marker": {
          "color": "#EF553B",
          "pattern": {
           "shape": ""
          }
         },
         "name": "0",
         "offsetgroup": "0",
         "orientation": "v",
         "showlegend": true,
         "type": "histogram",
         "x": {
          "bdata": "AQEBAQEBAQEBAQEBAAABAQEAAQEBAQEBAQEBAQEBAAEBAQEBAQEAAQEBAAABAAEBAAABAQEBAQEBAAEBAQEBAQABAQEBAQEBAQABAQEBAAEBAQABAQABAQEBAQEBAQEAAQEBAQEBAQEBAQEBAAEBAQEBAQEBAQEBAQEBAAEBAQEBAQEBAQEBAQABAAEAAQEBAQEBAQEAAQEAAQEBAQEBAQEBAQEBAAEBAQEBAQEBAAEAAQABAQEBAQABAQABAQEBAAEAAQEAAQABAQABAQEBAAEBAQEBAQEBAQEAAQEBAQEBAQEBAQEBAQEAAQEBAAEBAQEAAQEBAQAAAAABAQEAAQEBAQEBAQEBAQABAQABAQEBAQEBAQEBAQEBAQEBAQEBAQEBAQEBAQEBAQABAQEBAQEBAQEBAAEBAQEBAQEBAQEBAQEBAQEBAAEBAQEBAQABAQEBAQEBAAABAQEAAAEBAQEBAQEBAQEBAQEBAAEBAQEAAQEBAQEBAQEBAQEBAQEBAQEBAQABAQEBAQEBAQABAQEBAAEBAQEBAQEBAQEBAQEBAAEBAQEAAQEBAQEBAQA=",
          "dtype": "i1"
         },
         "xaxis": "x",
         "yaxis": "y"
        }
       ],
       "layout": {
        "barmode": "group",
        "legend": {
         "title": {
          "text": "Survived"
         },
         "tracegroupgap": 0
        },
        "template": {
         "data": {
          "bar": [
           {
            "error_x": {
             "color": "#2a3f5f"
            },
            "error_y": {
             "color": "#2a3f5f"
            },
            "marker": {
             "line": {
              "color": "#E5ECF6",
              "width": 0.5
             },
             "pattern": {
              "fillmode": "overlay",
              "size": 10,
              "solidity": 0.2
             }
            },
            "type": "bar"
           }
          ],
          "barpolar": [
           {
            "marker": {
             "line": {
              "color": "#E5ECF6",
              "width": 0.5
             },
             "pattern": {
              "fillmode": "overlay",
              "size": 10,
              "solidity": 0.2
             }
            },
            "type": "barpolar"
           }
          ],
          "carpet": [
           {
            "aaxis": {
             "endlinecolor": "#2a3f5f",
             "gridcolor": "white",
             "linecolor": "white",
             "minorgridcolor": "white",
             "startlinecolor": "#2a3f5f"
            },
            "baxis": {
             "endlinecolor": "#2a3f5f",
             "gridcolor": "white",
             "linecolor": "white",
             "minorgridcolor": "white",
             "startlinecolor": "#2a3f5f"
            },
            "type": "carpet"
           }
          ],
          "choropleth": [
           {
            "colorbar": {
             "outlinewidth": 0,
             "ticks": ""
            },
            "type": "choropleth"
           }
          ],
          "contour": [
           {
            "colorbar": {
             "outlinewidth": 0,
             "ticks": ""
            },
            "colorscale": [
             [
              0,
              "#0d0887"
             ],
             [
              0.1111111111111111,
              "#46039f"
             ],
             [
              0.2222222222222222,
              "#7201a8"
             ],
             [
              0.3333333333333333,
              "#9c179e"
             ],
             [
              0.4444444444444444,
              "#bd3786"
             ],
             [
              0.5555555555555556,
              "#d8576b"
             ],
             [
              0.6666666666666666,
              "#ed7953"
             ],
             [
              0.7777777777777778,
              "#fb9f3a"
             ],
             [
              0.8888888888888888,
              "#fdca26"
             ],
             [
              1,
              "#f0f921"
             ]
            ],
            "type": "contour"
           }
          ],
          "contourcarpet": [
           {
            "colorbar": {
             "outlinewidth": 0,
             "ticks": ""
            },
            "type": "contourcarpet"
           }
          ],
          "heatmap": [
           {
            "colorbar": {
             "outlinewidth": 0,
             "ticks": ""
            },
            "colorscale": [
             [
              0,
              "#0d0887"
             ],
             [
              0.1111111111111111,
              "#46039f"
             ],
             [
              0.2222222222222222,
              "#7201a8"
             ],
             [
              0.3333333333333333,
              "#9c179e"
             ],
             [
              0.4444444444444444,
              "#bd3786"
             ],
             [
              0.5555555555555556,
              "#d8576b"
             ],
             [
              0.6666666666666666,
              "#ed7953"
             ],
             [
              0.7777777777777778,
              "#fb9f3a"
             ],
             [
              0.8888888888888888,
              "#fdca26"
             ],
             [
              1,
              "#f0f921"
             ]
            ],
            "type": "heatmap"
           }
          ],
          "histogram": [
           {
            "marker": {
             "pattern": {
              "fillmode": "overlay",
              "size": 10,
              "solidity": 0.2
             }
            },
            "type": "histogram"
           }
          ],
          "histogram2d": [
           {
            "colorbar": {
             "outlinewidth": 0,
             "ticks": ""
            },
            "colorscale": [
             [
              0,
              "#0d0887"
             ],
             [
              0.1111111111111111,
              "#46039f"
             ],
             [
              0.2222222222222222,
              "#7201a8"
             ],
             [
              0.3333333333333333,
              "#9c179e"
             ],
             [
              0.4444444444444444,
              "#bd3786"
             ],
             [
              0.5555555555555556,
              "#d8576b"
             ],
             [
              0.6666666666666666,
              "#ed7953"
             ],
             [
              0.7777777777777778,
              "#fb9f3a"
             ],
             [
              0.8888888888888888,
              "#fdca26"
             ],
             [
              1,
              "#f0f921"
             ]
            ],
            "type": "histogram2d"
           }
          ],
          "histogram2dcontour": [
           {
            "colorbar": {
             "outlinewidth": 0,
             "ticks": ""
            },
            "colorscale": [
             [
              0,
              "#0d0887"
             ],
             [
              0.1111111111111111,
              "#46039f"
             ],
             [
              0.2222222222222222,
              "#7201a8"
             ],
             [
              0.3333333333333333,
              "#9c179e"
             ],
             [
              0.4444444444444444,
              "#bd3786"
             ],
             [
              0.5555555555555556,
              "#d8576b"
             ],
             [
              0.6666666666666666,
              "#ed7953"
             ],
             [
              0.7777777777777778,
              "#fb9f3a"
             ],
             [
              0.8888888888888888,
              "#fdca26"
             ],
             [
              1,
              "#f0f921"
             ]
            ],
            "type": "histogram2dcontour"
           }
          ],
          "mesh3d": [
           {
            "colorbar": {
             "outlinewidth": 0,
             "ticks": ""
            },
            "type": "mesh3d"
           }
          ],
          "parcoords": [
           {
            "line": {
             "colorbar": {
              "outlinewidth": 0,
              "ticks": ""
             }
            },
            "type": "parcoords"
           }
          ],
          "pie": [
           {
            "automargin": true,
            "type": "pie"
           }
          ],
          "scatter": [
           {
            "fillpattern": {
             "fillmode": "overlay",
             "size": 10,
             "solidity": 0.2
            },
            "type": "scatter"
           }
          ],
          "scatter3d": [
           {
            "line": {
             "colorbar": {
              "outlinewidth": 0,
              "ticks": ""
             }
            },
            "marker": {
             "colorbar": {
              "outlinewidth": 0,
              "ticks": ""
             }
            },
            "type": "scatter3d"
           }
          ],
          "scattercarpet": [
           {
            "marker": {
             "colorbar": {
              "outlinewidth": 0,
              "ticks": ""
             }
            },
            "type": "scattercarpet"
           }
          ],
          "scattergeo": [
           {
            "marker": {
             "colorbar": {
              "outlinewidth": 0,
              "ticks": ""
             }
            },
            "type": "scattergeo"
           }
          ],
          "scattergl": [
           {
            "marker": {
             "colorbar": {
              "outlinewidth": 0,
              "ticks": ""
             }
            },
            "type": "scattergl"
           }
          ],
          "scattermap": [
           {
            "marker": {
             "colorbar": {
              "outlinewidth": 0,
              "ticks": ""
             }
            },
            "type": "scattermap"
           }
          ],
          "scattermapbox": [
           {
            "marker": {
             "colorbar": {
              "outlinewidth": 0,
              "ticks": ""
             }
            },
            "type": "scattermapbox"
           }
          ],
          "scatterpolar": [
           {
            "marker": {
             "colorbar": {
              "outlinewidth": 0,
              "ticks": ""
             }
            },
            "type": "scatterpolar"
           }
          ],
          "scatterpolargl": [
           {
            "marker": {
             "colorbar": {
              "outlinewidth": 0,
              "ticks": ""
             }
            },
            "type": "scatterpolargl"
           }
          ],
          "scatterternary": [
           {
            "marker": {
             "colorbar": {
              "outlinewidth": 0,
              "ticks": ""
             }
            },
            "type": "scatterternary"
           }
          ],
          "surface": [
           {
            "colorbar": {
             "outlinewidth": 0,
             "ticks": ""
            },
            "colorscale": [
             [
              0,
              "#0d0887"
             ],
             [
              0.1111111111111111,
              "#46039f"
             ],
             [
              0.2222222222222222,
              "#7201a8"
             ],
             [
              0.3333333333333333,
              "#9c179e"
             ],
             [
              0.4444444444444444,
              "#bd3786"
             ],
             [
              0.5555555555555556,
              "#d8576b"
             ],
             [
              0.6666666666666666,
              "#ed7953"
             ],
             [
              0.7777777777777778,
              "#fb9f3a"
             ],
             [
              0.8888888888888888,
              "#fdca26"
             ],
             [
              1,
              "#f0f921"
             ]
            ],
            "type": "surface"
           }
          ],
          "table": [
           {
            "cells": {
             "fill": {
              "color": "#EBF0F8"
             },
             "line": {
              "color": "white"
             }
            },
            "header": {
             "fill": {
              "color": "#C8D4E3"
             },
             "line": {
              "color": "white"
             }
            },
            "type": "table"
           }
          ]
         },
         "layout": {
          "annotationdefaults": {
           "arrowcolor": "#2a3f5f",
           "arrowhead": 0,
           "arrowwidth": 1
          },
          "autotypenumbers": "strict",
          "coloraxis": {
           "colorbar": {
            "outlinewidth": 0,
            "ticks": ""
           }
          },
          "colorscale": {
           "diverging": [
            [
             0,
             "#8e0152"
            ],
            [
             0.1,
             "#c51b7d"
            ],
            [
             0.2,
             "#de77ae"
            ],
            [
             0.3,
             "#f1b6da"
            ],
            [
             0.4,
             "#fde0ef"
            ],
            [
             0.5,
             "#f7f7f7"
            ],
            [
             0.6,
             "#e6f5d0"
            ],
            [
             0.7,
             "#b8e186"
            ],
            [
             0.8,
             "#7fbc41"
            ],
            [
             0.9,
             "#4d9221"
            ],
            [
             1,
             "#276419"
            ]
           ],
           "sequential": [
            [
             0,
             "#0d0887"
            ],
            [
             0.1111111111111111,
             "#46039f"
            ],
            [
             0.2222222222222222,
             "#7201a8"
            ],
            [
             0.3333333333333333,
             "#9c179e"
            ],
            [
             0.4444444444444444,
             "#bd3786"
            ],
            [
             0.5555555555555556,
             "#d8576b"
            ],
            [
             0.6666666666666666,
             "#ed7953"
            ],
            [
             0.7777777777777778,
             "#fb9f3a"
            ],
            [
             0.8888888888888888,
             "#fdca26"
            ],
            [
             1,
             "#f0f921"
            ]
           ],
           "sequentialminus": [
            [
             0,
             "#0d0887"
            ],
            [
             0.1111111111111111,
             "#46039f"
            ],
            [
             0.2222222222222222,
             "#7201a8"
            ],
            [
             0.3333333333333333,
             "#9c179e"
            ],
            [
             0.4444444444444444,
             "#bd3786"
            ],
            [
             0.5555555555555556,
             "#d8576b"
            ],
            [
             0.6666666666666666,
             "#ed7953"
            ],
            [
             0.7777777777777778,
             "#fb9f3a"
            ],
            [
             0.8888888888888888,
             "#fdca26"
            ],
            [
             1,
             "#f0f921"
            ]
           ]
          },
          "colorway": [
           "#636efa",
           "#EF553B",
           "#00cc96",
           "#ab63fa",
           "#FFA15A",
           "#19d3f3",
           "#FF6692",
           "#B6E880",
           "#FF97FF",
           "#FECB52"
          ],
          "font": {
           "color": "#2a3f5f"
          },
          "geo": {
           "bgcolor": "white",
           "lakecolor": "white",
           "landcolor": "#E5ECF6",
           "showlakes": true,
           "showland": true,
           "subunitcolor": "white"
          },
          "hoverlabel": {
           "align": "left"
          },
          "hovermode": "closest",
          "mapbox": {
           "style": "light"
          },
          "paper_bgcolor": "white",
          "plot_bgcolor": "#E5ECF6",
          "polar": {
           "angularaxis": {
            "gridcolor": "white",
            "linecolor": "white",
            "ticks": ""
           },
           "bgcolor": "#E5ECF6",
           "radialaxis": {
            "gridcolor": "white",
            "linecolor": "white",
            "ticks": ""
           }
          },
          "scene": {
           "xaxis": {
            "backgroundcolor": "#E5ECF6",
            "gridcolor": "white",
            "gridwidth": 2,
            "linecolor": "white",
            "showbackground": true,
            "ticks": "",
            "zerolinecolor": "white"
           },
           "yaxis": {
            "backgroundcolor": "#E5ECF6",
            "gridcolor": "white",
            "gridwidth": 2,
            "linecolor": "white",
            "showbackground": true,
            "ticks": "",
            "zerolinecolor": "white"
           },
           "zaxis": {
            "backgroundcolor": "#E5ECF6",
            "gridcolor": "white",
            "gridwidth": 2,
            "linecolor": "white",
            "showbackground": true,
            "ticks": "",
            "zerolinecolor": "white"
           }
          },
          "shapedefaults": {
           "line": {
            "color": "#2a3f5f"
           }
          },
          "ternary": {
           "aaxis": {
            "gridcolor": "white",
            "linecolor": "white",
            "ticks": ""
           },
           "baxis": {
            "gridcolor": "white",
            "linecolor": "white",
            "ticks": ""
           },
           "bgcolor": "#E5ECF6",
           "caxis": {
            "gridcolor": "white",
            "linecolor": "white",
            "ticks": ""
           }
          },
          "title": {
           "x": 0.05
          },
          "xaxis": {
           "automargin": true,
           "gridcolor": "white",
           "linecolor": "white",
           "ticks": "",
           "title": {
            "standoff": 15
           },
           "zerolinecolor": "white",
           "zerolinewidth": 2
          },
          "yaxis": {
           "automargin": true,
           "gridcolor": "white",
           "linecolor": "white",
           "ticks": "",
           "title": {
            "standoff": 15
           },
           "zerolinecolor": "white",
           "zerolinewidth": 2
          }
         }
        },
        "title": {
         "text": "Survival by Gender"
        },
        "xaxis": {
         "anchor": "y",
         "domain": [
          0,
          1
         ],
         "title": {
          "text": "Sex"
         }
        },
        "yaxis": {
         "anchor": "x",
         "domain": [
          0,
          1
         ],
         "title": {
          "text": "count"
         }
        }
       }
      }
     },
     "metadata": {},
     "output_type": "display_data"
    }
   ],
   "source": [
    "fig = px.histogram(train, x='Sex', color='Survived',\n",
    "                   title='Survival by Gender',\n",
    "                   barmode='group')\n",
    "fig.show()\n"
   ]
  },
  {
   "cell_type": "code",
   "execution_count": 7,
   "id": "cc6c06ee",
   "metadata": {},
   "outputs": [
    {
     "data": {
      "application/vnd.plotly.v1+json": {
       "config": {
        "plotlyServerURL": "https://plot.ly"
       },
       "data": [
        {
         "bingroup": "x",
         "hovertemplate": "Survived=1<br>Age=%{x}<br>count=%{y}<extra></extra>",
         "legendgroup": "1",
         "marker": {
          "color": "#636efa",
          "opacity": 0.6,
          "pattern": {
           "shape": ""
          }
         },
         "name": "1",
         "nbinsx": 30,
         "orientation": "v",
         "showlegend": true,
         "type": "histogram",
         "x": {
          "bdata": "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",
          "dtype": "f8"
         },
         "xaxis": "x",
         "yaxis": "y"
        },
        {
         "bingroup": "x",
         "hovertemplate": "Survived=0<br>Age=%{x}<br>count=%{y}<extra></extra>",
         "legendgroup": "0",
         "marker": {
          "color": "#EF553B",
          "opacity": 0.6,
          "pattern": {
           "shape": ""
          }
         },
         "name": "0",
         "nbinsx": 30,
         "orientation": "v",
         "showlegend": true,
         "type": "histogram",
         "x": {
          "bdata": "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",
          "dtype": "f8"
         },
         "xaxis": "x",
         "yaxis": "y"
        }
       ],
       "layout": {
        "barmode": "overlay",
        "legend": {
         "title": {
          "text": "Survived"
         },
         "tracegroupgap": 0
        },
        "template": {
         "data": {
          "bar": [
           {
            "error_x": {
             "color": "#2a3f5f"
            },
            "error_y": {
             "color": "#2a3f5f"
            },
            "marker": {
             "line": {
              "color": "#E5ECF6",
              "width": 0.5
             },
             "pattern": {
              "fillmode": "overlay",
              "size": 10,
              "solidity": 0.2
             }
            },
            "type": "bar"
           }
          ],
          "barpolar": [
           {
            "marker": {
             "line": {
              "color": "#E5ECF6",
              "width": 0.5
             },
             "pattern": {
              "fillmode": "overlay",
              "size": 10,
              "solidity": 0.2
             }
            },
            "type": "barpolar"
           }
          ],
          "carpet": [
           {
            "aaxis": {
             "endlinecolor": "#2a3f5f",
             "gridcolor": "white",
             "linecolor": "white",
             "minorgridcolor": "white",
             "startlinecolor": "#2a3f5f"
            },
            "baxis": {
             "endlinecolor": "#2a3f5f",
             "gridcolor": "white",
             "linecolor": "white",
             "minorgridcolor": "white",
             "startlinecolor": "#2a3f5f"
            },
            "type": "carpet"
           }
          ],
          "choropleth": [
           {
            "colorbar": {
             "outlinewidth": 0,
             "ticks": ""
            },
            "type": "choropleth"
           }
          ],
          "contour": [
           {
            "colorbar": {
             "outlinewidth": 0,
             "ticks": ""
            },
            "colorscale": [
             [
              0,
              "#0d0887"
             ],
             [
              0.1111111111111111,
              "#46039f"
             ],
             [
              0.2222222222222222,
              "#7201a8"
             ],
             [
              0.3333333333333333,
              "#9c179e"
             ],
             [
              0.4444444444444444,
              "#bd3786"
             ],
             [
              0.5555555555555556,
              "#d8576b"
             ],
             [
              0.6666666666666666,
              "#ed7953"
             ],
             [
              0.7777777777777778,
              "#fb9f3a"
             ],
             [
              0.8888888888888888,
              "#fdca26"
             ],
             [
              1,
              "#f0f921"
             ]
            ],
            "type": "contour"
           }
          ],
          "contourcarpet": [
           {
            "colorbar": {
             "outlinewidth": 0,
             "ticks": ""
            },
            "type": "contourcarpet"
           }
          ],
          "heatmap": [
           {
            "colorbar": {
             "outlinewidth": 0,
             "ticks": ""
            },
            "colorscale": [
             [
              0,
              "#0d0887"
             ],
             [
              0.1111111111111111,
              "#46039f"
             ],
             [
              0.2222222222222222,
              "#7201a8"
             ],
             [
              0.3333333333333333,
              "#9c179e"
             ],
             [
              0.4444444444444444,
              "#bd3786"
             ],
             [
              0.5555555555555556,
              "#d8576b"
             ],
             [
              0.6666666666666666,
              "#ed7953"
             ],
             [
              0.7777777777777778,
              "#fb9f3a"
             ],
             [
              0.8888888888888888,
              "#fdca26"
             ],
             [
              1,
              "#f0f921"
             ]
            ],
            "type": "heatmap"
           }
          ],
          "histogram": [
           {
            "marker": {
             "pattern": {
              "fillmode": "overlay",
              "size": 10,
              "solidity": 0.2
             }
            },
            "type": "histogram"
           }
          ],
          "histogram2d": [
           {
            "colorbar": {
             "outlinewidth": 0,
             "ticks": ""
            },
            "colorscale": [
             [
              0,
              "#0d0887"
             ],
             [
              0.1111111111111111,
              "#46039f"
             ],
             [
              0.2222222222222222,
              "#7201a8"
             ],
             [
              0.3333333333333333,
              "#9c179e"
             ],
             [
              0.4444444444444444,
              "#bd3786"
             ],
             [
              0.5555555555555556,
              "#d8576b"
             ],
             [
              0.6666666666666666,
              "#ed7953"
             ],
             [
              0.7777777777777778,
              "#fb9f3a"
             ],
             [
              0.8888888888888888,
              "#fdca26"
             ],
             [
              1,
              "#f0f921"
             ]
            ],
            "type": "histogram2d"
           }
          ],
          "histogram2dcontour": [
           {
            "colorbar": {
             "outlinewidth": 0,
             "ticks": ""
            },
            "colorscale": [
             [
              0,
              "#0d0887"
             ],
             [
              0.1111111111111111,
              "#46039f"
             ],
             [
              0.2222222222222222,
              "#7201a8"
             ],
             [
              0.3333333333333333,
              "#9c179e"
             ],
             [
              0.4444444444444444,
              "#bd3786"
             ],
             [
              0.5555555555555556,
              "#d8576b"
             ],
             [
              0.6666666666666666,
              "#ed7953"
             ],
             [
              0.7777777777777778,
              "#fb9f3a"
             ],
             [
              0.8888888888888888,
              "#fdca26"
             ],
             [
              1,
              "#f0f921"
             ]
            ],
            "type": "histogram2dcontour"
           }
          ],
          "mesh3d": [
           {
            "colorbar": {
             "outlinewidth": 0,
             "ticks": ""
            },
            "type": "mesh3d"
           }
          ],
          "parcoords": [
           {
            "line": {
             "colorbar": {
              "outlinewidth": 0,
              "ticks": ""
             }
            },
            "type": "parcoords"
           }
          ],
          "pie": [
           {
            "automargin": true,
            "type": "pie"
           }
          ],
          "scatter": [
           {
            "fillpattern": {
             "fillmode": "overlay",
             "size": 10,
             "solidity": 0.2
            },
            "type": "scatter"
           }
          ],
          "scatter3d": [
           {
            "line": {
             "colorbar": {
              "outlinewidth": 0,
              "ticks": ""
             }
            },
            "marker": {
             "colorbar": {
              "outlinewidth": 0,
              "ticks": ""
             }
            },
            "type": "scatter3d"
           }
          ],
          "scattercarpet": [
           {
            "marker": {
             "colorbar": {
              "outlinewidth": 0,
              "ticks": ""
             }
            },
            "type": "scattercarpet"
           }
          ],
          "scattergeo": [
           {
            "marker": {
             "colorbar": {
              "outlinewidth": 0,
              "ticks": ""
             }
            },
            "type": "scattergeo"
           }
          ],
          "scattergl": [
           {
            "marker": {
             "colorbar": {
              "outlinewidth": 0,
              "ticks": ""
             }
            },
            "type": "scattergl"
           }
          ],
          "scattermap": [
           {
            "marker": {
             "colorbar": {
              "outlinewidth": 0,
              "ticks": ""
             }
            },
            "type": "scattermap"
           }
          ],
          "scattermapbox": [
           {
            "marker": {
             "colorbar": {
              "outlinewidth": 0,
              "ticks": ""
             }
            },
            "type": "scattermapbox"
           }
          ],
          "scatterpolar": [
           {
            "marker": {
             "colorbar": {
              "outlinewidth": 0,
              "ticks": ""
             }
            },
            "type": "scatterpolar"
           }
          ],
          "scatterpolargl": [
           {
            "marker": {
             "colorbar": {
              "outlinewidth": 0,
              "ticks": ""
             }
            },
            "type": "scatterpolargl"
           }
          ],
          "scatterternary": [
           {
            "marker": {
             "colorbar": {
              "outlinewidth": 0,
              "ticks": ""
             }
            },
            "type": "scatterternary"
           }
          ],
          "surface": [
           {
            "colorbar": {
             "outlinewidth": 0,
             "ticks": ""
            },
            "colorscale": [
             [
              0,
              "#0d0887"
             ],
             [
              0.1111111111111111,
              "#46039f"
             ],
             [
              0.2222222222222222,
              "#7201a8"
             ],
             [
              0.3333333333333333,
              "#9c179e"
             ],
             [
              0.4444444444444444,
              "#bd3786"
             ],
             [
              0.5555555555555556,
              "#d8576b"
             ],
             [
              0.6666666666666666,
              "#ed7953"
             ],
             [
              0.7777777777777778,
              "#fb9f3a"
             ],
             [
              0.8888888888888888,
              "#fdca26"
             ],
             [
              1,
              "#f0f921"
             ]
            ],
            "type": "surface"
           }
          ],
          "table": [
           {
            "cells": {
             "fill": {
              "color": "#EBF0F8"
             },
             "line": {
              "color": "white"
             }
            },
            "header": {
             "fill": {
              "color": "#C8D4E3"
             },
             "line": {
              "color": "white"
             }
            },
            "type": "table"
           }
          ]
         },
         "layout": {
          "annotationdefaults": {
           "arrowcolor": "#2a3f5f",
           "arrowhead": 0,
           "arrowwidth": 1
          },
          "autotypenumbers": "strict",
          "coloraxis": {
           "colorbar": {
            "outlinewidth": 0,
            "ticks": ""
           }
          },
          "colorscale": {
           "diverging": [
            [
             0,
             "#8e0152"
            ],
            [
             0.1,
             "#c51b7d"
            ],
            [
             0.2,
             "#de77ae"
            ],
            [
             0.3,
             "#f1b6da"
            ],
            [
             0.4,
             "#fde0ef"
            ],
            [
             0.5,
             "#f7f7f7"
            ],
            [
             0.6,
             "#e6f5d0"
            ],
            [
             0.7,
             "#b8e186"
            ],
            [
             0.8,
             "#7fbc41"
            ],
            [
             0.9,
             "#4d9221"
            ],
            [
             1,
             "#276419"
            ]
           ],
           "sequential": [
            [
             0,
             "#0d0887"
            ],
            [
             0.1111111111111111,
             "#46039f"
            ],
            [
             0.2222222222222222,
             "#7201a8"
            ],
            [
             0.3333333333333333,
             "#9c179e"
            ],
            [
             0.4444444444444444,
             "#bd3786"
            ],
            [
             0.5555555555555556,
             "#d8576b"
            ],
            [
             0.6666666666666666,
             "#ed7953"
            ],
            [
             0.7777777777777778,
             "#fb9f3a"
            ],
            [
             0.8888888888888888,
             "#fdca26"
            ],
            [
             1,
             "#f0f921"
            ]
           ],
           "sequentialminus": [
            [
             0,
             "#0d0887"
            ],
            [
             0.1111111111111111,
             "#46039f"
            ],
            [
             0.2222222222222222,
             "#7201a8"
            ],
            [
             0.3333333333333333,
             "#9c179e"
            ],
            [
             0.4444444444444444,
             "#bd3786"
            ],
            [
             0.5555555555555556,
             "#d8576b"
            ],
            [
             0.6666666666666666,
             "#ed7953"
            ],
            [
             0.7777777777777778,
             "#fb9f3a"
            ],
            [
             0.8888888888888888,
             "#fdca26"
            ],
            [
             1,
             "#f0f921"
            ]
           ]
          },
          "colorway": [
           "#636efa",
           "#EF553B",
           "#00cc96",
           "#ab63fa",
           "#FFA15A",
           "#19d3f3",
           "#FF6692",
           "#B6E880",
           "#FF97FF",
           "#FECB52"
          ],
          "font": {
           "color": "#2a3f5f"
          },
          "geo": {
           "bgcolor": "white",
           "lakecolor": "white",
           "landcolor": "#E5ECF6",
           "showlakes": true,
           "showland": true,
           "subunitcolor": "white"
          },
          "hoverlabel": {
           "align": "left"
          },
          "hovermode": "closest",
          "mapbox": {
           "style": "light"
          },
          "paper_bgcolor": "white",
          "plot_bgcolor": "#E5ECF6",
          "polar": {
           "angularaxis": {
            "gridcolor": "white",
            "linecolor": "white",
            "ticks": ""
           },
           "bgcolor": "#E5ECF6",
           "radialaxis": {
            "gridcolor": "white",
            "linecolor": "white",
            "ticks": ""
           }
          },
          "scene": {
           "xaxis": {
            "backgroundcolor": "#E5ECF6",
            "gridcolor": "white",
            "gridwidth": 2,
            "linecolor": "white",
            "showbackground": true,
            "ticks": "",
            "zerolinecolor": "white"
           },
           "yaxis": {
            "backgroundcolor": "#E5ECF6",
            "gridcolor": "white",
            "gridwidth": 2,
            "linecolor": "white",
            "showbackground": true,
            "ticks": "",
            "zerolinecolor": "white"
           },
           "zaxis": {
            "backgroundcolor": "#E5ECF6",
            "gridcolor": "white",
            "gridwidth": 2,
            "linecolor": "white",
            "showbackground": true,
            "ticks": "",
            "zerolinecolor": "white"
           }
          },
          "shapedefaults": {
           "line": {
            "color": "#2a3f5f"
           }
          },
          "ternary": {
           "aaxis": {
            "gridcolor": "white",
            "linecolor": "white",
            "ticks": ""
           },
           "baxis": {
            "gridcolor": "white",
            "linecolor": "white",
            "ticks": ""
           },
           "bgcolor": "#E5ECF6",
           "caxis": {
            "gridcolor": "white",
            "linecolor": "white",
            "ticks": ""
           }
          },
          "title": {
           "x": 0.05
          },
          "xaxis": {
           "automargin": true,
           "gridcolor": "white",
           "linecolor": "white",
           "ticks": "",
           "title": {
            "standoff": 15
           },
           "zerolinecolor": "white",
           "zerolinewidth": 2
          },
          "yaxis": {
           "automargin": true,
           "gridcolor": "white",
           "linecolor": "white",
           "ticks": "",
           "title": {
            "standoff": 15
           },
           "zerolinecolor": "white",
           "zerolinewidth": 2
          }
         }
        },
        "title": {
         "text": "Age Distribution by Survival"
        },
        "xaxis": {
         "anchor": "y",
         "domain": [
          0,
          1
         ],
         "title": {
          "text": "Age"
         }
        },
        "yaxis": {
         "anchor": "x",
         "domain": [
          0,
          1
         ],
         "title": {
          "text": "count"
         }
        }
       }
      }
     },
     "metadata": {},
     "output_type": "display_data"
    }
   ],
   "source": [
    "fig = px.histogram(train, x='Age', color='Survived',\n",
    "                   nbins=30, barmode='overlay',\n",
    "                   title='Age Distribution by Survival',\n",
    "                   opacity=0.6)\n",
    "fig.show()\n"
   ]
  },
  {
   "cell_type": "markdown",
   "id": "fb36672a",
   "metadata": {},
   "source": [
    "## Part 3 - Experiments\n",
    "You could add as many code cells as needed"
   ]
  },
  {
   "cell_type": "code",
   "execution_count": 36,
   "id": "b7098585",
   "metadata": {},
   "outputs": [],
   "source": [
    "# יצירת מאפיין חדש: קבוצות גיל\n",
    "train['age_group'] = pd.cut(train['Age'], bins=[0, 14, 60, 120], labels=[0, 1, 2]).astype(int)\n",
    "test['age_group'] = pd.cut(test['Age'], bins=[0, 14, 60, 120], labels=[0, 1, 2]).astype(int)\n",
    "\n",
    "# יצירת מאפיין: גודל המשפחה (כולל הנוסע עצמו)\n",
    "train['family_size'] = train['SibSp'] + train['Parch'] + 1\n",
    "test['family_size'] = test['SibSp'] + test['Parch'] + 1\n",
    "\n",
    "# יצירת מאפיין בינארי: האם נוסע לבד\n",
    "train['is_alone'] = ((train['SibSp'] == 0) & (train['Parch'] == 0)).astype(int)\n",
    "test['is_alone'] = ((test['SibSp'] == 0) & (test['Parch'] == 0)).astype(int)\n",
    "\n",
    "# יצירת מאפיין בינארי: האם הנוסע הוא ילד\n",
    "train['is_child'] = (train['Age'] < 14).astype(int)\n",
    "test['is_child'] = (test['Age'] < 14).astype(int)\n"
   ]
  },
  {
   "cell_type": "code",
   "execution_count": 37,
   "id": "097afb02",
   "metadata": {},
   "outputs": [],
   "source": [
    "# הפרדת משתנה המטרה (Survived) מהמאפיינים (features)\n",
    "\n",
    "# סט אימון\n",
    "X_train = train.drop('Survived', axis=1)  # כל העמודות פרט ל־Survived\n",
    "y_train = train['Survived']               # רק העמודה Survived\n",
    "\n",
    "# סט בדיקה\n",
    "X_test = test.drop('Survived', axis=1)\n",
    "y_test = test['Survived']\n",
    "if 'Survived' in test.columns:\n",
    "    X_test = test.drop('Survived', axis=1)\n",
    "    y_test = test['Survived']\n",
    "else:\n",
    "    X_test = test.copy()\n",
    "    y_test = None  # או השאר ריק לעת עתה\n",
    "\n"
   ]
  },
  {
   "cell_type": "code",
   "execution_count": 10,
   "id": "1fa9ec73",
   "metadata": {},
   "outputs": [
    {
     "name": "stdout",
     "output_type": "stream",
     "text": [
      "\n",
      "=== Testing Feature Set: Baseline ===\n",
      "Accuracy: 0.8492, Precision: 0.7656, Recall: 0.8033, F1: 0.7840\n",
      "\n",
      "=== Testing Feature Set: Is Child only ===\n",
      "Accuracy: 0.8492, Precision: 0.7742, Recall: 0.7869, F1: 0.7805\n",
      "\n",
      "=== Testing Feature Set: Age Group ===\n",
      "Accuracy: 0.8715, Precision: 0.8065, Recall: 0.8197, F1: 0.8130\n",
      "\n",
      "=== Testing Feature Set: Family Size only ===\n",
      "Accuracy: 0.8492, Precision: 0.7656, Recall: 0.8033, F1: 0.7840\n",
      "\n",
      "=== Testing Feature Set: Age Group + Is Child ===\n",
      "Accuracy: 0.8603, Precision: 0.8103, Recall: 0.7705, F1: 0.7899\n",
      "\n",
      "=== Testing Feature Set: Age Group + Family Size ===\n",
      "Accuracy: 0.8547, Precision: 0.7869, Recall: 0.7869, F1: 0.7869\n",
      "\n",
      "=== Testing Feature Set: Is Child + Family Size ===\n",
      "Accuracy: 0.8436, Precision: 0.7538, Recall: 0.8033, F1: 0.7778\n",
      "\n",
      "=== Testing Feature Set: All ===\n",
      "Accuracy: 0.8547, Precision: 0.7869, Recall: 0.7869, F1: 0.7869\n",
      "\n",
      "=== Summary Table ===\n"
     ]
    },
    {
     "data": {
      "text/html": [
       "<div>\n",
       "<style scoped>\n",
       "    .dataframe tbody tr th:only-of-type {\n",
       "        vertical-align: middle;\n",
       "    }\n",
       "\n",
       "    .dataframe tbody tr th {\n",
       "        vertical-align: top;\n",
       "    }\n",
       "\n",
       "    .dataframe thead th {\n",
       "        text-align: right;\n",
       "    }\n",
       "</style>\n",
       "<table border=\"1\" class=\"dataframe\">\n",
       "  <thead>\n",
       "    <tr style=\"text-align: right;\">\n",
       "      <th></th>\n",
       "      <th>Feature Set</th>\n",
       "      <th>Accuracy</th>\n",
       "      <th>Precision</th>\n",
       "      <th>Recall</th>\n",
       "      <th>F1 Score</th>\n",
       "    </tr>\n",
       "  </thead>\n",
       "  <tbody>\n",
       "    <tr>\n",
       "      <th>2</th>\n",
       "      <td>Age Group</td>\n",
       "      <td>0.871508</td>\n",
       "      <td>0.806452</td>\n",
       "      <td>0.819672</td>\n",
       "      <td>0.813008</td>\n",
       "    </tr>\n",
       "    <tr>\n",
       "      <th>4</th>\n",
       "      <td>Age Group + Is Child</td>\n",
       "      <td>0.860335</td>\n",
       "      <td>0.810345</td>\n",
       "      <td>0.770492</td>\n",
       "      <td>0.789916</td>\n",
       "    </tr>\n",
       "    <tr>\n",
       "      <th>5</th>\n",
       "      <td>Age Group + Family Size</td>\n",
       "      <td>0.854749</td>\n",
       "      <td>0.786885</td>\n",
       "      <td>0.786885</td>\n",
       "      <td>0.786885</td>\n",
       "    </tr>\n",
       "    <tr>\n",
       "      <th>7</th>\n",
       "      <td>All</td>\n",
       "      <td>0.854749</td>\n",
       "      <td>0.786885</td>\n",
       "      <td>0.786885</td>\n",
       "      <td>0.786885</td>\n",
       "    </tr>\n",
       "    <tr>\n",
       "      <th>0</th>\n",
       "      <td>Baseline</td>\n",
       "      <td>0.849162</td>\n",
       "      <td>0.765625</td>\n",
       "      <td>0.803279</td>\n",
       "      <td>0.784000</td>\n",
       "    </tr>\n",
       "    <tr>\n",
       "      <th>3</th>\n",
       "      <td>Family Size only</td>\n",
       "      <td>0.849162</td>\n",
       "      <td>0.765625</td>\n",
       "      <td>0.803279</td>\n",
       "      <td>0.784000</td>\n",
       "    </tr>\n",
       "    <tr>\n",
       "      <th>1</th>\n",
       "      <td>Is Child only</td>\n",
       "      <td>0.849162</td>\n",
       "      <td>0.774194</td>\n",
       "      <td>0.786885</td>\n",
       "      <td>0.780488</td>\n",
       "    </tr>\n",
       "    <tr>\n",
       "      <th>6</th>\n",
       "      <td>Is Child + Family Size</td>\n",
       "      <td>0.843575</td>\n",
       "      <td>0.753846</td>\n",
       "      <td>0.803279</td>\n",
       "      <td>0.777778</td>\n",
       "    </tr>\n",
       "  </tbody>\n",
       "</table>\n",
       "</div>"
      ],
      "text/plain": [
       "               Feature Set  Accuracy  Precision    Recall  F1 Score\n",
       "2                Age Group  0.871508   0.806452  0.819672  0.813008\n",
       "4     Age Group + Is Child  0.860335   0.810345  0.770492  0.789916\n",
       "5  Age Group + Family Size  0.854749   0.786885  0.786885  0.786885\n",
       "7                      All  0.854749   0.786885  0.786885  0.786885\n",
       "0                 Baseline  0.849162   0.765625  0.803279  0.784000\n",
       "3         Family Size only  0.849162   0.765625  0.803279  0.784000\n",
       "1            Is Child only  0.849162   0.774194  0.786885  0.780488\n",
       "6   Is Child + Family Size  0.843575   0.753846  0.803279  0.777778"
      ]
     },
     "metadata": {},
     "output_type": "display_data"
    }
   ],
   "source": [
    "def prepare_data(features_to_include):\n",
    "    columns = ['Pclass', 'Sex', 'Age', 'SibSp', 'Parch', 'Fare', 'Embarked'] + features_to_include\n",
    "    return train[columns].copy(), test[columns].copy()\n",
    "\n",
    "# הפיצ'רים שייבחנו\n",
    "feature_sets = {\n",
    "    \"Baseline\": [],\n",
    "    \"Is Child only\": ['is_child'],\n",
    "    \"Age Group\": ['age_group'],\n",
    "    \"Family Size only\": ['family_size'],\n",
    "    \"Age Group + Is Child\": ['age_group', 'is_child'],\n",
    "    \"Age Group + Family Size\": ['age_group', 'family_size'],\n",
    "    \"Is Child + Family Size\": ['is_child', 'family_size'],\n",
    "    \"All\": ['is_child', 'family_size', 'age_group']\n",
    "}\n",
    "\n",
    "# שמירת התוצאות\n",
    "results = []\n",
    "\n",
    "# לולאה על כל סט אפשרי\n",
    "for name, extra_features in feature_sets.items():\n",
    "    print(f\"\\n=== Testing Feature Set: {name} ===\")\n",
    "    \n",
    "    base_cols = ['Pclass', 'Sex', 'Age', 'SibSp', 'Parch', 'Fare', 'Embarked']\n",
    "    columns = base_cols + extra_features\n",
    "    \n",
    "    X_train_sub = train[columns].copy()\n",
    "    X_test_sub = test[columns].copy()\n",
    "\n",
    "\n",
    "    # Scaling + סינון פיצ'רים עם סטיית תקן אפס\n",
    "    scaler = StandardScaler()\n",
    "    X_train_scaled = scaler.fit_transform(X_train_sub)\n",
    "    X_test_scaled = scaler.transform(X_test_sub)\n",
    "\n",
    "    selector = VarianceThreshold(threshold=0.0)\n",
    "    X_train_scaled = selector.fit_transform(X_train_scaled)\n",
    "    X_test_scaled = selector.transform(X_test_scaled)\n",
    "\n",
    "    # אימון המודל\n",
    "    model = RandomForestClassifier(random_state=42)\n",
    "    model.fit(X_train_scaled, y_train)\n",
    "    y_pred = model.predict(X_test_scaled)\n",
    "\n",
    "    acc = accuracy_score(y_test, y_pred)\n",
    "    prec = precision_score(y_test, y_pred, zero_division=0)\n",
    "    rec = recall_score(y_test, y_pred)\n",
    "    f1 = f1_score(y_test, y_pred)\n",
    "\n",
    "    print(f\"Accuracy: {acc:.4f}, Precision: {prec:.4f}, Recall: {rec:.4f}, F1: {f1:.4f}\")\n",
    "    \n",
    "    results.append({\n",
    "        'Feature Set': name,\n",
    "        'Accuracy': acc,\n",
    "        'Precision': prec,\n",
    "        'Recall': rec,\n",
    "        'F1 Score': f1\n",
    "    })\n",
    "\n",
    "# טבלה מסכמת\n",
    "results_df = pd.DataFrame(results)\n",
    "print(\"\\n=== Summary Table ===\")\n",
    "\n",
    "display(results_df.sort_values('F1 Score', ascending=False))"
   ]
  },
  {
   "cell_type": "code",
   "execution_count": 11,
   "id": "937b653d",
   "metadata": {},
   "outputs": [],
   "source": [
    "### הורדה של פיצרים שרק גורעים לנו מהתוצאות\n",
    "X_train.drop(columns=['is_child', 'family_size'], inplace=True, errors='ignore')\n",
    "X_test.drop(columns=['is_child', 'family_size'], inplace=True, errors='ignore')\n",
    "\n"
   ]
  },
  {
   "cell_type": "code",
   "execution_count": 12,
   "id": "d7acbeb5",
   "metadata": {},
   "outputs": [],
   "source": [
    "dt_model = DecisionTreeClassifier(random_state=42)\n",
    "\n",
    "# Random Forest\n",
    "rf_model = RandomForestClassifier(random_state=42)\n",
    "\n",
    "# KNN (K-Nearest Neighbors)\n",
    "knn_model = KNeighborsClassifier(n_neighbors=5)\n",
    "\n",
    "# רשימה של המודלים כדי לעבור עליהם בלולאה\n",
    "models = {\n",
    "    \"Decision Tree\": dt_model,\n",
    "    \"Random Forest\": rf_model,\n",
    "    \"K-Nearest Neighbors\": knn_model\n",
    "}\n"
   ]
  },
  {
   "cell_type": "code",
   "execution_count": 13,
   "id": "42606105",
   "metadata": {},
   "outputs": [],
   "source": [
    "def evaluate_and_display_model(model_name, model, X_train, y_train, X_test, y_test):\n",
    "\n",
    "    print(f\"\\n--- Training and prediction for: {model_name} ---\")\n",
    "\n",
    "    # אימון המודל\n",
    "    model.fit(X_train, y_train)\n",
    "\n",
    "    # ביצוע תחזיות\n",
    "    y_pred = model.predict(X_test)\n",
    "\n",
    "    # הדפסת מדדי הערכה\n",
    "    print(f\"Accuracy: {accuracy_score(y_test, y_pred):.4f}\")\n",
    "    print(f\"Precision: {precision_score(y_test, y_pred):.4f}\")\n",
    "    print(f\"Recall: {recall_score(y_test, y_pred):.4f}\")\n",
    "    print(f\"F1-Score: {f1_score(y_test, y_pred):.4f}\")\n",
    "\n",
    "    # הצגת Confusion Matrix\n",
    "    cm = confusion_matrix(y_test, y_pred)\n",
    "    plt.figure(figsize=(6, 4))\n",
    "    sns.heatmap(cm, annot=True, fmt='d', cmap='Blues',\n",
    "                xticklabels=['Did not survive (predicted)', 'Survived (predicted)'],\n",
    "                yticklabels=['Did not survive (real)', 'Survived (real)'])\n",
    "    plt.xlabel('Model Prediction', fontsize=12)\n",
    "    plt.ylabel('Real Value', fontsize=12)\n",
    "    plt.title(f'Confusion Matrix for: {model_name}', fontsize=14)\n",
    "    plt.show()"
   ]
  },
  {
   "cell_type": "code",
   "execution_count": 14,
   "id": "fa3ac0a0",
   "metadata": {},
   "outputs": [
    {
     "name": "stdout",
     "output_type": "stream",
     "text": [
      "\n",
      "--- Training and prediction for: Decision Tree ---\n",
      "Accuracy: 0.8268\n",
      "Precision: 0.7143\n",
      "Recall: 0.8197\n",
      "F1-Score: 0.7634\n"
     ]
    },
    {
     "data": {
      "image/png": "[encoded data removed]",
      "text/plain": [
       "<Figure size 600x400 with 2 Axes>"
      ]
     },
     "metadata": {},
     "output_type": "display_data"
    },
    {
     "name": "stdout",
     "output_type": "stream",
     "text": [
      "\n",
      "--- Training and prediction for: Random Forest ---\n",
      "Accuracy: 0.8547\n",
      "Precision: 0.7869\n",
      "Recall: 0.7869\n",
      "F1-Score: 0.7869\n"
     ]
    },
    {
     "data": {
      "image/png": "[encoded data removed]",
      "text/plain": [
       "<Figure size 600x400 with 2 Axes>"
      ]
     },
     "metadata": {},
     "output_type": "display_data"
    },
    {
     "name": "stdout",
     "output_type": "stream",
     "text": [
      "\n",
      "--- Training and prediction for: K-Nearest Neighbors ---\n",
      "Accuracy: 0.8380\n",
      "Precision: 0.7581\n",
      "Recall: 0.7705\n",
      "F1-Score: 0.7642\n"
     ]
    },
    {
     "data": {
      "image/png": "[encoded data removed]",
      "text/plain": [
       "<Figure size 600x400 with 2 Axes>"
      ]
     },
     "metadata": {},
     "output_type": "display_data"
    }
   ],
   "source": [
    "\n",
    "# הרצת הפונקציה עבור כל אחד מהמודלים שבחרתם\n",
    "for name, model in models.items():\n",
    "    evaluate_and_display_model(name, model, X_train_scaled, y_train, X_test_scaled, y_test)"
   ]
  },
  {
   "cell_type": "code",
   "execution_count": 15,
   "id": "9463dfd3",
   "metadata": {},
   "outputs": [
    {
     "data": {
      "image/png": "[encoded data removed]",
      "text/plain": [
       "<Figure size 1000x600 with 1 Axes>"
      ]
     },
     "metadata": {},
     "output_type": "display_data"
    },
    {
     "data": {
      "image/png": "[encoded data removed]",
      "text/plain": [
       "<Figure size 1000x600 with 1 Axes>"
      ]
     },
     "metadata": {},
     "output_type": "display_data"
    },
    {
     "data": {
      "image/png": "[encoded data removed]",
      "text/plain": [
       "<Figure size 1000x600 with 1 Axes>"
      ]
     },
     "metadata": {},
     "output_type": "display_data"
    },
    {
     "data": {
      "image/png": "[encoded data removed]",
      "text/plain": [
       "<Figure size 1000x600 with 1 Axes>"
      ]
     },
     "metadata": {},
     "output_type": "display_data"
    }
   ],
   "source": [
    "# 🧪 יצירת רשימה חדשה לאיסוף התוצאות\n",
    "results_summary = []\n",
    "\n",
    "# הפעל מחדש את המודלים ואסוף תוצאות להמחשה\n",
    "for name, model in models.items():\n",
    "    model.fit(X_train_scaled, y_train)\n",
    "    y_pred = model.predict(X_test_scaled)\n",
    "\n",
    "    results_summary.append({\n",
    "        'Model': name,\n",
    "        'Accuracy': accuracy_score(y_test, y_pred),\n",
    "        'Precision': precision_score(y_test, y_pred, zero_division=0),\n",
    "        'Recall': recall_score(y_test, y_pred),\n",
    "        'F1': f1_score(y_test, y_pred)\n",
    "    })\n",
    "\n",
    "# הפוך ל-DataFrame\n",
    "results_df = pd.DataFrame(results_summary)\n",
    "\n",
    "# 🎨 גרף השוואה לפי F1\n",
    "plt.figure(figsize=(10, 6))\n",
    "sns.barplot(data=results_df, x='Model', y='F1', palette='Set2', hue = 'Model', legend = False)\n",
    "plt.title(\"F1 Score Comparison Between Models\")\n",
    "plt.ylabel(\"F1 Score\")\n",
    "plt.ylim(0, 1)\n",
    "plt.xticks(rotation=45)\n",
    "plt.tight_layout()\n",
    "plt.show()\n",
    "\n",
    "# 🎨 גרפים נוספים להשוואה\n",
    "for metric in ['Accuracy', 'Precision', 'Recall']:\n",
    "    plt.figure(figsize=(10, 6))\n",
    "    sns.barplot(data=results_df, x='Model', y=metric, palette='pastel', hue = 'Model', legend = False)\n",
    "    plt.title(f\"{metric} Comparison Between Models\")\n",
    "    plt.ylabel(metric)\n",
    "    plt.ylim(0, 1)\n",
    "    plt.xticks(rotation=45)\n",
    "    plt.tight_layout()\n",
    "    plt.show()\n"
   ]
  },
  {
   "cell_type": "code",
   "execution_count": 38,
   "id": "ba1839cf",
   "metadata": {},
   "outputs": [],
   "source": [
    "# הגדרת התכונות לבחירה\n",
    "selected_features = ['Pclass', 'Sex', 'Age', 'SibSp', 'Parch', 'Fare', 'Embarked', 'age_group']\n",
    "\n",
    "# חלוקה למאפיינים ולתוויות\n",
    "X_train = train[selected_features].copy()\n",
    "X_test = test[selected_features].copy()\n",
    "y_train = train['Survived']\n",
    "y_test = test['Survived']\n",
    "\n",
    "# פונקציה לבחירת תכונות והרצת GridSearchCV עבור ערך k נתון\n",
    "def run_feature_selection_gridsearch(k):\n",
    "    pipeline = Pipeline([\n",
    "        ('scaler', StandardScaler()),\n",
    "        ('select', SelectKBest(score_func=f_classif, k=k)),\n",
    "        ('model', RandomForestClassifier(random_state=42))\n",
    "    ])\n",
    "\n",
    "    param_grid = {\n",
    "        'model__n_estimators': [100],\n",
    "        'model__max_depth': [5, 10, None],\n",
    "        'model__min_samples_split': [2],\n",
    "    }\n",
    "\n",
    "    grid = GridSearchCV(\n",
    "        estimator=pipeline,\n",
    "        param_grid=param_grid,\n",
    "        scoring='f1',\n",
    "        cv=5,\n",
    "        n_jobs=-1,\n",
    "        verbose=0\n",
    "    )\n",
    "\n",
    "    grid.fit(X_train, y_train)\n",
    "    best_model = grid.best_estimator_\n",
    "    y_pred = best_model.predict(X_test)\n",
    "\n",
    "    selected_mask = best_model.named_steps['select'].get_support()\n",
    "    selected_feature_names = [f for f, keep in zip(selected_features, selected_mask) if keep]\n",
    "\n",
    "    return {\n",
    "        'k': k,\n",
    "        'F1 Score': f1_score(y_test, y_pred),\n",
    "        'Accuracy': accuracy_score(y_test, y_pred),\n",
    "        'Selected Features': selected_feature_names,\n",
    "        'Best Params': grid.best_params_\n",
    "    }\n"
   ]
  },
  {
   "cell_type": "code",
   "execution_count": 39,
   "id": "26f09ace",
   "metadata": {},
   "outputs": [
    {
     "name": "stdout",
     "output_type": "stream",
     "text": [
      "Running for k = 1\n"
     ]
    },
    {
     "name": "stdout",
     "output_type": "stream",
     "text": [
      "Running for k = 2\n",
      "Running for k = 3\n",
      "Running for k = 4\n",
      "Running for k = 5\n",
      "Running for k = 6\n",
      "Running for k = 7\n",
      "Running for k = 8\n",
      "\n",
      "=== Feature Selection Results by K ===\n"
     ]
    },
    {
     "data": {
      "text/html": [
       "<div>\n",
       "<style scoped>\n",
       "    .dataframe tbody tr th:only-of-type {\n",
       "        vertical-align: middle;\n",
       "    }\n",
       "\n",
       "    .dataframe tbody tr th {\n",
       "        vertical-align: top;\n",
       "    }\n",
       "\n",
       "    .dataframe thead th {\n",
       "        text-align: right;\n",
       "    }\n",
       "</style>\n",
       "<table border=\"1\" class=\"dataframe\">\n",
       "  <thead>\n",
       "    <tr style=\"text-align: right;\">\n",
       "      <th></th>\n",
       "      <th>k</th>\n",
       "      <th>F1 Score</th>\n",
       "      <th>Accuracy</th>\n",
       "      <th>Selected Features</th>\n",
       "      <th>Best Params</th>\n",
       "    </tr>\n",
       "  </thead>\n",
       "  <tbody>\n",
       "    <tr>\n",
       "      <th>7</th>\n",
       "      <td>8</td>\n",
       "      <td>0.827586</td>\n",
       "      <td>0.888268</td>\n",
       "      <td>[Pclass, Sex, Age, SibSp, Parch, Fare, Embarke...</td>\n",
       "      <td>{'model__max_depth': 10, 'model__min_samples_s...</td>\n",
       "    </tr>\n",
       "    <tr>\n",
       "      <th>6</th>\n",
       "      <td>7</td>\n",
       "      <td>0.803419</td>\n",
       "      <td>0.871508</td>\n",
       "      <td>[Pclass, Sex, Age, Parch, Fare, Embarked, age_...</td>\n",
       "      <td>{'model__max_depth': 10, 'model__min_samples_s...</td>\n",
       "    </tr>\n",
       "    <tr>\n",
       "      <th>5</th>\n",
       "      <td>6</td>\n",
       "      <td>0.781818</td>\n",
       "      <td>0.865922</td>\n",
       "      <td>[Pclass, Sex, Parch, Fare, Embarked, age_group]</td>\n",
       "      <td>{'model__max_depth': 10, 'model__min_samples_s...</td>\n",
       "    </tr>\n",
       "    <tr>\n",
       "      <th>3</th>\n",
       "      <td>4</td>\n",
       "      <td>0.771930</td>\n",
       "      <td>0.854749</td>\n",
       "      <td>[Pclass, Sex, Fare, age_group]</td>\n",
       "      <td>{'model__max_depth': None, 'model__min_samples...</td>\n",
       "    </tr>\n",
       "    <tr>\n",
       "      <th>2</th>\n",
       "      <td>3</td>\n",
       "      <td>0.767857</td>\n",
       "      <td>0.854749</td>\n",
       "      <td>[Pclass, Sex, Fare]</td>\n",
       "      <td>{'model__max_depth': None, 'model__min_samples...</td>\n",
       "    </tr>\n",
       "    <tr>\n",
       "      <th>4</th>\n",
       "      <td>5</td>\n",
       "      <td>0.766355</td>\n",
       "      <td>0.860335</td>\n",
       "      <td>[Pclass, Sex, Fare, Embarked, age_group]</td>\n",
       "      <td>{'model__max_depth': 10, 'model__min_samples_s...</td>\n",
       "    </tr>\n",
       "    <tr>\n",
       "      <th>0</th>\n",
       "      <td>1</td>\n",
       "      <td>0.672269</td>\n",
       "      <td>0.782123</td>\n",
       "      <td>[Sex]</td>\n",
       "      <td>{'model__max_depth': 5, 'model__min_samples_sp...</td>\n",
       "    </tr>\n",
       "    <tr>\n",
       "      <th>1</th>\n",
       "      <td>2</td>\n",
       "      <td>0.672269</td>\n",
       "      <td>0.782123</td>\n",
       "      <td>[Pclass, Sex]</td>\n",
       "      <td>{'model__max_depth': 5, 'model__min_samples_sp...</td>\n",
       "    </tr>\n",
       "  </tbody>\n",
       "</table>\n",
       "</div>"
      ],
      "text/plain": [
       "   k  F1 Score  Accuracy                                  Selected Features  \\\n",
       "7  8  0.827586  0.888268  [Pclass, Sex, Age, SibSp, Parch, Fare, Embarke...   \n",
       "6  7  0.803419  0.871508  [Pclass, Sex, Age, Parch, Fare, Embarked, age_...   \n",
       "5  6  0.781818  0.865922    [Pclass, Sex, Parch, Fare, Embarked, age_group]   \n",
       "3  4  0.771930  0.854749                     [Pclass, Sex, Fare, age_group]   \n",
       "2  3  0.767857  0.854749                                [Pclass, Sex, Fare]   \n",
       "4  5  0.766355  0.860335           [Pclass, Sex, Fare, Embarked, age_group]   \n",
       "0  1  0.672269  0.782123                                              [Sex]   \n",
       "1  2  0.672269  0.782123                                      [Pclass, Sex]   \n",
       "\n",
       "                                         Best Params  \n",
       "7  {'model__max_depth': 10, 'model__min_samples_s...  \n",
       "6  {'model__max_depth': 10, 'model__min_samples_s...  \n",
       "5  {'model__max_depth': 10, 'model__min_samples_s...  \n",
       "3  {'model__max_depth': None, 'model__min_samples...  \n",
       "2  {'model__max_depth': None, 'model__min_samples...  \n",
       "4  {'model__max_depth': 10, 'model__min_samples_s...  \n",
       "0  {'model__max_depth': 5, 'model__min_samples_sp...  \n",
       "1  {'model__max_depth': 5, 'model__min_samples_sp...  "
      ]
     },
     "metadata": {},
     "output_type": "display_data"
    },
    {
     "data": {
      "image/png": "[encoded data removed]",
      "text/plain": [
       "<Figure size 1000x600 with 1 Axes>"
      ]
     },
     "metadata": {},
     "output_type": "display_data"
    }
   ],
   "source": [
    "# הרצה בלולאה על ערכי k שונים לצורך בחירת מספר התכונות האופטימלי\n",
    "results = []\n",
    "\n",
    "for k in range(1, len(selected_features) + 1):\n",
    "    print(f\"Running for k = {k}\")\n",
    "    result = run_feature_selection_gridsearch(k)\n",
    "    results.append(result)\n",
    "\n",
    "# הפיכת התוצאות לטבלה\n",
    "results_df = pd.DataFrame(results)\n",
    "\n",
    "# הצגת הטבלה ממוינת לפי F1 Score\n",
    "print(\"\\n=== Feature Selection Results by K ===\")\n",
    "display(results_df.sort_values(\"F1 Score\", ascending=False))\n",
    "\n",
    "# גרף: ביצועי F1 Score לפי מספר התכונות שנבחרו\n",
    "plt.figure(figsize=(10, 6))\n",
    "sns.lineplot(data=results_df, x='k', y='F1 Score', marker='o', color='green')\n",
    "plt.title(\"F1 Score by Number of Selected Features (k)\")\n",
    "plt.xlabel(\"Number of Selected Features (k)\")\n",
    "plt.ylabel(\"F1 Score\")\n",
    "plt.xticks(results_df['k'])\n",
    "plt.grid(True)\n",
    "plt.tight_layout()\n",
    "plt.show()\n"
   ]
  },
  {
   "cell_type": "code",
   "execution_count": 18,
   "id": "f0f1ca2a",
   "metadata": {},
   "outputs": [
    {
     "name": "stdout",
     "output_type": "stream",
     "text": [
      "Fitting 5 folds for each of 216 candidates, totalling 1080 fits\n",
      "Best Parameters (RF): {'model__max_depth': 10, 'model__max_features': 'sqrt', 'model__min_samples_leaf': 1, 'model__min_samples_split': 5, 'model__n_estimators': 100}\n"
     ]
    }
   ],
   "source": [
    "pipeline_rf = Pipeline([\n",
    "    ('scaler', StandardScaler()),\n",
    "    ('model', RandomForestClassifier(random_state=42))\n",
    "])\n",
    "\n",
    "param_grid_rf = {\n",
    "    'model__n_estimators': [100, 200, 300],\n",
    "    'model__max_depth': [5, 10, 20, None],\n",
    "    'model__min_samples_split': [2, 5, 10],\n",
    "    'model__min_samples_leaf': [1, 2, 4],\n",
    "    'model__max_features': ['sqrt', 'log2']\n",
    "}\n",
    "\n",
    "grid_rf = GridSearchCV(\n",
    "    estimator=pipeline_rf,\n",
    "    param_grid=param_grid_rf,\n",
    "    scoring='f1',\n",
    "    cv=5,\n",
    "    n_jobs=-1,\n",
    "    verbose=1\n",
    ")\n",
    "\n",
    "# 🚀 התאמת הרשת על הנתוני אימון\n",
    "grid_rf.fit(X_train, y_train)\n",
    "\n",
    "print(\"Best Parameters (RF):\", grid_rf.best_params_)\n",
    "best_RF_model = grid_rf.best_estimator_\n",
    "\n"
   ]
  },
  {
   "cell_type": "code",
   "execution_count": 40,
   "id": "30ad206a",
   "metadata": {},
   "outputs": [
    {
     "name": "stdout",
     "output_type": "stream",
     "text": [
      "Classification Report (Random Forest):\n",
      "               precision    recall  f1-score   support\n",
      "\n",
      "           0       0.90      0.95      0.92       118\n",
      "           1       0.89      0.79      0.83        61\n",
      "\n",
      "    accuracy                           0.89       179\n",
      "   macro avg       0.89      0.87      0.88       179\n",
      "weighted avg       0.89      0.89      0.89       179\n",
      "\n",
      "Accuracy (Random Forest): 0.8938547486033519\n",
      "F1 Score (Random Forest): 0.8347826086956521\n"
     ]
    }
   ],
   "source": [
    "# חיזוי עם המודל הטוב ביותר של Random Forest\n",
    "y_pred_rf = best_RF_model.predict(X_test)\n",
    "\n",
    "# דוחות ביצועים\n",
    "print(\"Classification Report (Random Forest):\\n\", classification_report(y_test, y_pred_rf))\n",
    "print(\"Accuracy (Random Forest):\", accuracy_score(y_test, y_pred_rf))\n",
    "print(\"F1 Score (Random Forest):\", f1_score(y_test, y_pred_rf))\n"
   ]
  },
  {
   "cell_type": "code",
   "execution_count": 20,
   "id": "2b3d450b",
   "metadata": {},
   "outputs": [
    {
     "data": {
      "image/png": "[encoded data removed]",
      "text/plain": [
       "<Figure size 640x480 with 2 Axes>"
      ]
     },
     "metadata": {},
     "output_type": "display_data"
    }
   ],
   "source": [
    "sns.heatmap(confusion_matrix(y_test, y_pred_rf), annot=True, fmt='d', cmap='Blues')\n",
    "plt.title(\"Confusion Matrix - Best Random Forest\")\n",
    "plt.xlabel(\"Predicted\")\n",
    "plt.ylabel(\"Actual\")\n",
    "plt.show()"
   ]
  },
  {
   "cell_type": "code",
   "execution_count": 21,
   "id": "e967bf00",
   "metadata": {},
   "outputs": [
    {
     "data": {
      "image/png": "[encoded data removed]",
      "text/plain": [
       "<Figure size 1000x500 with 1 Axes>"
      ]
     },
     "metadata": {},
     "output_type": "display_data"
    }
   ],
   "source": [
    "feature_importances = best_RF_model.named_steps['model'].feature_importances_\n",
    "importances_series = pd.Series(feature_importances, index=X_train.columns)\n",
    "importances_series.sort_values(ascending=False).plot(kind='bar', figsize=(10,5))\n",
    "plt.title(\"Feature Importance - Random Forest\")\n",
    "plt.tight_layout()\n",
    "plt.show()"
   ]
  },
  {
   "cell_type": "code",
   "execution_count": 22,
   "id": "e0b2dbec",
   "metadata": {},
   "outputs": [
    {
     "name": "stdout",
     "output_type": "stream",
     "text": [
      "Fitting 5 folds for each of 6 candidates, totalling 30 fits\n",
      "Best Parameters (KNN): {'model__metric': 'euclidean', 'model__n_neighbors': 3, 'model__weights': 'uniform'}\n",
      "Best CV F1 Score (KNN): 0.7420471825672963\n"
     ]
    }
   ],
   "source": [
    "pipeline_knn = Pipeline([\n",
    "    ('scaler', StandardScaler()),\n",
    "    ('model', KNeighborsClassifier())\n",
    "])\n",
    "\n",
    "param_grid_knn = {\n",
    "    'model__n_neighbors': [3, 5, 7],\n",
    "    'model__weights': ['uniform'],\n",
    "    'model__metric': ['euclidean', 'manhattan']\n",
    "}\n",
    "\n",
    "f1_scorer = make_scorer(f1_score, pos_label=1)\n",
    "\n",
    "grid_knn = GridSearchCV(\n",
    "    estimator=pipeline_knn,\n",
    "    param_grid=param_grid_knn,\n",
    "    scoring=f1_scorer,\n",
    "    cv=5,\n",
    "    n_jobs=-1,\n",
    "    verbose=1\n",
    ")\n",
    "\n",
    "grid_knn.fit(X_train, y_train)\n",
    "\n",
    "print(\"Best Parameters (KNN):\", grid_knn.best_params_)\n",
    "print(\"Best CV F1 Score (KNN):\", grid_knn.best_score_)\n",
    "\n",
    "best_knn_model = grid_knn.best_estimator_\n",
    "y_pred_knn = best_knn_model.predict(X_test)"
   ]
  },
  {
   "cell_type": "code",
   "execution_count": 23,
   "id": "e3d55cc7",
   "metadata": {},
   "outputs": [
    {
     "name": "stdout",
     "output_type": "stream",
     "text": [
      "\n",
      "Test Set Performance (KNN):\n",
      "Accuracy: 0.8435754189944135\n",
      "Precision: 0.7619047619047619\n",
      "Recall: 0.7868852459016393\n",
      "F1 Score: 0.7741935483870968\n"
     ]
    }
   ],
   "source": [
    "\n",
    "print(\"\\nTest Set Performance (KNN):\")\n",
    "print(\"Accuracy:\", accuracy_score(y_test, y_pred_knn))\n",
    "print(\"Precision:\", precision_score(y_test, y_pred_knn, zero_division=0))\n",
    "print(\"Recall:\", recall_score(y_test, y_pred_knn))\n",
    "print(\"F1 Score:\", f1_score(y_test, y_pred_knn))"
   ]
  },
  {
   "cell_type": "code",
   "execution_count": 41,
   "id": "31dda197",
   "metadata": {},
   "outputs": [
    {
     "name": "stdout",
     "output_type": "stream",
     "text": [
      "Classification Report (KNN):\n",
      "               precision    recall  f1-score   support\n",
      "\n",
      "           0       0.89      0.87      0.88       118\n",
      "           1       0.76      0.79      0.77        61\n",
      "\n",
      "    accuracy                           0.84       179\n",
      "   macro avg       0.82      0.83      0.83       179\n",
      "weighted avg       0.84      0.84      0.84       179\n",
      "\n",
      "Accuracy (KNN): 0.8435754189944135\n",
      "F1 Score (KNN): 0.7741935483870968\n"
     ]
    }
   ],
   "source": [
    "# דוחות ביצועים עבור מודל KNN\n",
    "print(\"Classification Report (KNN):\\n\", classification_report(y_test, y_pred_knn))\n",
    "print(\"Accuracy (KNN):\", accuracy_score(y_test, y_pred_knn))\n",
    "print(\"F1 Score (KNN):\", f1_score(y_test, y_pred_knn))\n"
   ]
  },
  {
   "cell_type": "code",
   "execution_count": 25,
   "id": "e71c6f4f",
   "metadata": {},
   "outputs": [
    {
     "data": {
      "image/png": "[encoded data removed]",
      "text/plain": [
       "<Figure size 640x480 with 2 Axes>"
      ]
     },
     "metadata": {},
     "output_type": "display_data"
    }
   ],
   "source": [
    "sns.heatmap(confusion_matrix(y_test, y_pred_knn), annot=True, fmt='d', cmap='Greens')\n",
    "plt.title(\"Confusion Matrix - Best KNN\")\n",
    "plt.xlabel(\"Predicted\")\n",
    "plt.ylabel(\"Actual\")\n",
    "plt.show()"
   ]
  },
  {
   "cell_type": "code",
   "execution_count": 26,
   "id": "f64c2913",
   "metadata": {},
   "outputs": [
    {
     "data": {
      "image/png": "[encoded data removed]",
      "text/plain": [
       "<Figure size 800x500 with 1 Axes>"
      ]
     },
     "metadata": {},
     "output_type": "display_data"
    }
   ],
   "source": [
    "metrics = {\n",
    "    'Model': ['Random Forest', 'KNN'],\n",
    "    'Accuracy': [\n",
    "        accuracy_score(y_test, y_pred_rf),\n",
    "        accuracy_score(y_test, y_pred_knn)\n",
    "    ],\n",
    "    'F1 Score': [\n",
    "        f1_score(y_test, y_pred_rf),\n",
    "        f1_score(y_test, y_pred_knn)\n",
    "    ]\n",
    "}\n",
    "df_metrics = pd.DataFrame(metrics)\n",
    "\n",
    "fig, ax = plt.subplots(figsize=(8,5))\n",
    "bar_width = 0.35\n",
    "index = np.arange(len(df_metrics))\n",
    "\n",
    "ax.bar(index, df_metrics['Accuracy'], bar_width, label='Accuracy', color='skyblue')\n",
    "ax.bar(index + bar_width, df_metrics['F1 Score'], bar_width, label='F1 Score', color='lightgreen')\n",
    "\n",
    "ax.set_xlabel('Model')\n",
    "ax.set_ylabel('Score')\n",
    "ax.set_title('Model Performance Comparison')\n",
    "ax.set_xticks(index + bar_width / 2)\n",
    "ax.set_xticklabels(df_metrics['Model'])\n",
    "ax.legend()\n",
    "\n",
    "plt.tight_layout()\n",
    "plt.show()\n"
   ]
  },
  {
   "cell_type": "code",
   "execution_count": 27,
   "id": "766f4c63",
   "metadata": {},
   "outputs": [
    {
     "data": {
      "image/png": "[encoded data removed]",
      "text/plain": [
       "<Figure size 1200x500 with 4 Axes>"
      ]
     },
     "metadata": {},
     "output_type": "display_data"
    }
   ],
   "source": [
    "fig, axes = plt.subplots(1, 2, figsize=(12,5))\n",
    "\n",
    "sns.heatmap(confusion_matrix(y_test, y_pred_rf), annot=True, fmt='d', cmap='Blues', ax=axes[0])\n",
    "axes[0].set_title('Confusion Matrix - Random Forest')\n",
    "axes[0].set_xlabel('Predicted')\n",
    "axes[0].set_ylabel('Actual')\n",
    "\n",
    "sns.heatmap(confusion_matrix(y_test, y_pred_knn), annot=True, fmt='d', cmap='Greens', ax=axes[1])\n",
    "axes[1].set_title('Confusion Matrix - KNN')\n",
    "axes[1].set_xlabel('Predicted')\n",
    "axes[1].set_ylabel('Actual')\n",
    "\n",
    "plt.tight_layout()\n",
    "plt.show()"
   ]
  },
  {
   "cell_type": "markdown",
   "id": "67d97f11",
   "metadata": {},
   "source": [
    "## Part 4 - Training \n",
    "Use the best combination of feature engineering, model (algorithm and hyperparameters) from the experiment part (part 3)"
   ]
  },
  {
   "cell_type": "code",
   "execution_count": 42,
   "id": "93713ead",
   "metadata": {},
   "outputs": [
    {
     "name": "stdout",
     "output_type": "stream",
     "text": [
      "=== Model Comparison ===\n",
      "Random Forest -> Accuracy: 0.8939 | F1 Score: 0.8348\n",
      "KNN           -> Accuracy: 0.8436 | F1 Score: 0.7742\n"
     ]
    }
   ],
   "source": [
    "# חישוב המדדים לשני המודלים\n",
    "rf_f1 = f1_score(y_test, y_pred_rf)\n",
    "rf_acc = accuracy_score(y_test, y_pred_rf)\n",
    "\n",
    "knn_f1 = f1_score(y_test, y_pred_knn)\n",
    "knn_acc = accuracy_score(y_test, y_pred_knn)\n",
    "\n",
    "# הדפסת טבלת השוואה של שני המודלים\n",
    "print(\"=== Model Comparison ===\")\n",
    "print(f\"Random Forest -> Accuracy: {rf_acc:.4f} | F1 Score: {rf_f1:.4f}\")\n",
    "print(f\"KNN           -> Accuracy: {knn_acc:.4f} | F1 Score: {knn_f1:.4f}\")\n"
   ]
  },
  {
   "cell_type": "code",
   "execution_count": 43,
   "id": "c0fc460d",
   "metadata": {},
   "outputs": [
    {
     "name": "stdout",
     "output_type": "stream",
     "text": [
      "\n",
      "Best Model: Random Forest selected by both F1 Score (0.8348) and Accuracy (0.8939)\n"
     ]
    }
   ],
   "source": [
    "# בחירת מודל לפי F1 Score\n",
    "if rf_f1 >= knn_f1:\n",
    "    best_model_f1 = best_RF_model\n",
    "    best_model_name_f1 = 'Random Forest'\n",
    "    best_metric_f1 = rf_f1\n",
    "else:\n",
    "    best_model_f1 = best_knn_model\n",
    "    best_model_name_f1 = 'KNN'\n",
    "    best_metric_f1 = knn_f1\n",
    "\n",
    "# בחירת מודל לפי Accuracy\n",
    "if rf_acc >= knn_acc:\n",
    "    best_model_acc = best_RF_model\n",
    "    best_model_name_acc = 'Random Forest'\n",
    "    best_metric_acc = rf_acc\n",
    "else:\n",
    "    best_model_acc = best_knn_model\n",
    "    best_model_name_acc = 'KNN'\n",
    "    best_metric_acc = knn_acc\n",
    "\n",
    "# הצגת תוצאות ההשוואה\n",
    "if best_model_name_f1 == best_model_name_acc:\n",
    "    print(f\"\\nBest Model: {best_model_name_f1} selected by both F1 Score ({best_metric_f1:.4f}) and Accuracy ({best_metric_acc:.4f})\")\n",
    "    final_model = best_model_f1\n",
    "else:\n",
    "    print(f\"\\nBest Model by F1 Score: {best_model_name_f1} (F1 Score: {best_metric_f1:.4f})\")\n",
    "    print(f\"Best Model by Accuracy: {best_model_name_acc} (Accuracy: {best_metric_acc:.4f})\")\n",
    "\n",
    "# בחירת המודל הסופי לפי F1 Score (ניתן לשנות לפי צורך)\n",
    "final_model = best_model_f1\n",
    "\n",
    "# חיזוי על כל סט הבדיקה\n",
    "y_pred_all = final_model.predict(X_test)\n"
   ]
  },
  {
   "cell_type": "code",
   "execution_count": 44,
   "id": "064ad0a0",
   "metadata": {},
   "outputs": [
    {
     "name": "stdout",
     "output_type": "stream",
     "text": [
      "\n",
      "=== Classification Report (Random Forest) ===\n",
      "              precision    recall  f1-score   support\n",
      "\n",
      "           0       0.90      0.95      0.92       118\n",
      "           1       0.89      0.79      0.83        61\n",
      "\n",
      "    accuracy                           0.89       179\n",
      "   macro avg       0.89      0.87      0.88       179\n",
      "weighted avg       0.89      0.89      0.89       179\n",
      "\n",
      "Accuracy: 0.8939\n",
      "F1 Score: 0.8348\n"
     ]
    }
   ],
   "source": [
    "# דוח ביצועים מלא עבור המודל הסופי\n",
    "print(f\"\\n=== Classification Report ({best_model_name_f1}) ===\")\n",
    "print(classification_report(y_test, y_pred_all))\n",
    "print(f\"Accuracy: {accuracy_score(y_test, y_pred_all):.4f}\")\n",
    "print(f\"F1 Score: {f1_score(y_test, y_pred_all):.4f}\")\n"
   ]
  },
  {
   "cell_type": "markdown",
   "id": "259ab902",
   "metadata": {},
   "source": [
    "## Part 5 - Apply on test and show model performance estimation"
   ]
  },
  {
   "cell_type": "code",
   "execution_count": 45,
   "id": "d9971aa5",
   "metadata": {},
   "outputs": [
    {
     "name": "stdout",
     "output_type": "stream",
     "text": [
      "\n",
      "=== First 100 Predictions ===\n",
      "Passenger 0 | Predicted: 0 | Actual: 0\n",
      "Passenger 1 | Predicted: 0 | Actual: 0\n",
      "Passenger 2 | Predicted: 0 | Actual: 0\n",
      "Passenger 3 | Predicted: 1 | Actual: 0\n",
      "Passenger 4 | Predicted: 1 | Actual: 1\n",
      "Passenger 5 | Predicted: 0 | Actual: 1\n",
      "Passenger 6 | Predicted: 0 | Actual: 0\n",
      "Passenger 7 | Predicted: 0 | Actual: 0\n",
      "Passenger 8 | Predicted: 1 | Actual: 1\n",
      "Passenger 9 | Predicted: 0 | Actual: 0\n",
      "Passenger 10 | Predicted: 1 | Actual: 1\n",
      "Passenger 11 | Predicted: 0 | Actual: 0\n",
      "Passenger 12 | Predicted: 0 | Actual: 0\n",
      "Passenger 13 | Predicted: 0 | Actual: 0\n",
      "Passenger 14 | Predicted: 0 | Actual: 0\n",
      "Passenger 15 | Predicted: 0 | Actual: 0\n",
      "Passenger 16 | Predicted: 0 | Actual: 0\n",
      "Passenger 17 | Predicted: 1 | Actual: 1\n",
      "Passenger 18 | Predicted: 1 | Actual: 1\n",
      "Passenger 19 | Predicted: 0 | Actual: 0\n",
      "Passenger 20 | Predicted: 0 | Actual: 1\n",
      "Passenger 21 | Predicted: 0 | Actual: 0\n",
      "Passenger 22 | Predicted: 1 | Actual: 1\n",
      "Passenger 23 | Predicted: 0 | Actual: 0\n",
      "Passenger 24 | Predicted: 0 | Actual: 0\n",
      "Passenger 25 | Predicted: 0 | Actual: 1\n",
      "Passenger 26 | Predicted: 0 | Actual: 0\n",
      "Passenger 27 | Predicted: 1 | Actual: 1\n",
      "Passenger 28 | Predicted: 0 | Actual: 0\n",
      "Passenger 29 | Predicted: 0 | Actual: 0\n",
      "Passenger 30 | Predicted: 1 | Actual: 1\n",
      "Passenger 31 | Predicted: 0 | Actual: 0\n",
      "Passenger 32 | Predicted: 0 | Actual: 0\n",
      "Passenger 33 | Predicted: 0 | Actual: 0\n",
      "Passenger 34 | Predicted: 0 | Actual: 0\n",
      "Passenger 35 | Predicted: 0 | Actual: 0\n",
      "Passenger 36 | Predicted: 0 | Actual: 0\n",
      "Passenger 37 | Predicted: 0 | Actual: 0\n",
      "Passenger 38 | Predicted: 1 | Actual: 1\n",
      "Passenger 39 | Predicted: 1 | Actual: 1\n",
      "Passenger 40 | Predicted: 1 | Actual: 1\n",
      "Passenger 41 | Predicted: 0 | Actual: 1\n",
      "Passenger 42 | Predicted: 0 | Actual: 0\n",
      "Passenger 43 | Predicted: 1 | Actual: 0\n",
      "Passenger 44 | Predicted: 0 | Actual: 0\n",
      "Passenger 45 | Predicted: 0 | Actual: 0\n",
      "Passenger 46 | Predicted: 0 | Actual: 0\n",
      "Passenger 47 | Predicted: 0 | Actual: 0\n",
      "Passenger 48 | Predicted: 1 | Actual: 1\n",
      "Passenger 49 | Predicted: 0 | Actual: 0\n",
      "Passenger 50 | Predicted: 0 | Actual: 0\n",
      "Passenger 51 | Predicted: 0 | Actual: 0\n",
      "Passenger 52 | Predicted: 0 | Actual: 0\n",
      "Passenger 53 | Predicted: 1 | Actual: 1\n",
      "Passenger 54 | Predicted: 0 | Actual: 0\n",
      "Passenger 55 | Predicted: 0 | Actual: 0\n",
      "Passenger 56 | Predicted: 0 | Actual: 0\n",
      "Passenger 57 | Predicted: 0 | Actual: 0\n",
      "Passenger 58 | Predicted: 0 | Actual: 0\n",
      "Passenger 59 | Predicted: 1 | Actual: 1\n",
      "Passenger 60 | Predicted: 0 | Actual: 0\n",
      "Passenger 61 | Predicted: 0 | Actual: 0\n",
      "Passenger 62 | Predicted: 1 | Actual: 0\n",
      "Passenger 63 | Predicted: 0 | Actual: 0\n",
      "Passenger 64 | Predicted: 0 | Actual: 0\n",
      "Passenger 65 | Predicted: 0 | Actual: 0\n",
      "Passenger 66 | Predicted: 0 | Actual: 0\n",
      "Passenger 67 | Predicted: 1 | Actual: 1\n",
      "Passenger 68 | Predicted: 0 | Actual: 0\n",
      "Passenger 69 | Predicted: 1 | Actual: 1\n",
      "Passenger 70 | Predicted: 1 | Actual: 1\n",
      "Passenger 71 | Predicted: 0 | Actual: 0\n",
      "Passenger 72 | Predicted: 0 | Actual: 0\n",
      "Passenger 73 | Predicted: 1 | Actual: 1\n",
      "Passenger 74 | Predicted: 1 | Actual: 1\n",
      "Passenger 75 | Predicted: 0 | Actual: 0\n",
      "Passenger 76 | Predicted: 1 | Actual: 1\n",
      "Passenger 77 | Predicted: 0 | Actual: 0\n",
      "Passenger 78 | Predicted: 0 | Actual: 0\n",
      "Passenger 79 | Predicted: 1 | Actual: 1\n",
      "Passenger 80 | Predicted: 0 | Actual: 0\n",
      "Passenger 81 | Predicted: 1 | Actual: 1\n",
      "Passenger 82 | Predicted: 0 | Actual: 0\n",
      "Passenger 83 | Predicted: 0 | Actual: 0\n",
      "Passenger 84 | Predicted: 1 | Actual: 1\n",
      "Passenger 85 | Predicted: 0 | Actual: 0\n",
      "Passenger 86 | Predicted: 0 | Actual: 0\n",
      "Passenger 87 | Predicted: 0 | Actual: 0\n",
      "Passenger 88 | Predicted: 0 | Actual: 0\n",
      "Passenger 89 | Predicted: 1 | Actual: 1\n",
      "Passenger 90 | Predicted: 1 | Actual: 1\n",
      "Passenger 91 | Predicted: 1 | Actual: 1\n",
      "Passenger 92 | Predicted: 1 | Actual: 1\n",
      "Passenger 93 | Predicted: 1 | Actual: 1\n",
      "Passenger 94 | Predicted: 1 | Actual: 0\n",
      "Passenger 95 | Predicted: 1 | Actual: 1\n",
      "Passenger 96 | Predicted: 0 | Actual: 0\n",
      "Passenger 97 | Predicted: 1 | Actual: 1\n",
      "Passenger 98 | Predicted: 0 | Actual: 0\n",
      "Passenger 99 | Predicted: 0 | Actual: 0\n",
      "\n",
      "Correct Predictions out of first 100: 92/100\n"
     ]
    },
    {
     "data": {
      "image/png": "[encoded data removed]",
      "text/plain": [
       "<Figure size 600x400 with 1 Axes>"
      ]
     },
     "metadata": {},
     "output_type": "display_data"
    }
   ],
   "source": [
    "# הצגת התחזיות הראשונות והשוואה לערכים האמיתיים\n",
    "print(\"\\n=== First 100 Predictions ===\")\n",
    "first_100_predictions = y_pred_all[:100]\n",
    "first_100_actual = y_test.iloc[:100].values\n",
    "\n",
    "correct_predictions = 0\n",
    "for i in range(len(first_100_predictions)):\n",
    "    passenger_id = X_test.index[i]\n",
    "    predicted = first_100_predictions[i]\n",
    "    actual = first_100_actual[i]\n",
    "    if predicted == actual:\n",
    "        correct_predictions += 1\n",
    "    print(f\"Passenger {passenger_id} | Predicted: {predicted} | Actual: {actual}\")\n",
    "\n",
    "print(f\"\\nCorrect Predictions out of first 100: {correct_predictions}/100\")\n",
    "\n",
    "# הצגת גרף סיכום\n",
    "correct_percent = (correct_predictions / 100) * 100\n",
    "\n",
    "plt.figure(figsize=(6, 4))\n",
    "plt.bar(['Correct', 'Incorrect'], [correct_predictions, 100 - correct_predictions], color=['green', 'red'])\n",
    "plt.ylim(0, 100)\n",
    "plt.ylabel('Number of Predictions')\n",
    "plt.title(f'First 100 Predictions Correctness\\nCorrect: {correct_predictions}/100 ({correct_percent:.1f}%)')\n",
    "plt.grid(axis='y', linestyle='--', alpha=0.7)\n",
    "plt.tight_layout()\n",
    "plt.show()\n"
   ]
  },
  {
   "cell_type": "code",
   "execution_count": null,
   "id": "00d8aa96",
   "metadata": {},
   "outputs": [],
   "source": []
  }
 ],
 "metadata": {
  "kernelspec": {
   "display_name": ".venv",
   "language": "python",
   "name": "python3"
  },
  "language_info": {
   "codemirror_mode": {
    "name": "ipython",
    "version": 3
   },
   "file_extension": ".py",
   "mimetype": "text/x-python",
   "name": "python",
   "nbconvert_exporter": "python",
   "pygments_lexer": "ipython3",
   "version": "3.13.2"
  }
 },
 "nbformat": 4,
 "nbformat_minor": 5
}
